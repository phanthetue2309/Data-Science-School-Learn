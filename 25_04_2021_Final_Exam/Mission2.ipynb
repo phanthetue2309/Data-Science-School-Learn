{
 "cells": [
  {
   "cell_type": "code",
   "execution_count": 1,
   "id": "double-trunk",
   "metadata": {},
   "outputs": [
    {
     "data": {
      "text/html": [
       "<div>\n",
       "<style scoped>\n",
       "    .dataframe tbody tr th:only-of-type {\n",
       "        vertical-align: middle;\n",
       "    }\n",
       "\n",
       "    .dataframe tbody tr th {\n",
       "        vertical-align: top;\n",
       "    }\n",
       "\n",
       "    .dataframe thead th {\n",
       "        text-align: right;\n",
       "    }\n",
       "</style>\n",
       "<table border=\"1\" class=\"dataframe\">\n",
       "  <thead>\n",
       "    <tr style=\"text-align: right;\">\n",
       "      <th></th>\n",
       "      <th>Name</th>\n",
       "      <th>Category</th>\n",
       "      <th>List-Price</th>\n",
       "      <th>Price</th>\n",
       "      <th>Total Review</th>\n",
       "      <th>Rating Average</th>\n",
       "      <th>Discount</th>\n",
       "      <th>Discount Rate</th>\n",
       "    </tr>\n",
       "  </thead>\n",
       "  <tbody>\n",
       "    <tr>\n",
       "      <th>0</th>\n",
       "      <td>Nước Xả Vải Comfort Cho Da Nhạy Cảm (3.2L/Túi)...</td>\n",
       "      <td>Chăm sóc nhà cửa</td>\n",
       "      <td>209000</td>\n",
       "      <td>168000</td>\n",
       "      <td>1777</td>\n",
       "      <td>4.7</td>\n",
       "      <td>41000</td>\n",
       "      <td>20</td>\n",
       "    </tr>\n",
       "    <tr>\n",
       "      <th>1</th>\n",
       "      <td>Túi Nước Giặt Omo Matic Bền Đẹp Cửa Trước 3.7Kg</td>\n",
       "      <td>Chăm sóc nhà cửa</td>\n",
       "      <td>199000</td>\n",
       "      <td>150000</td>\n",
       "      <td>32</td>\n",
       "      <td>5.0</td>\n",
       "      <td>49000</td>\n",
       "      <td>25</td>\n",
       "    </tr>\n",
       "    <tr>\n",
       "      <th>2</th>\n",
       "      <td>Túi Nước Giặt OMO Matic Comfort Hương Tinh dầu...</td>\n",
       "      <td>Chăm sóc nhà cửa</td>\n",
       "      <td>199000</td>\n",
       "      <td>161000</td>\n",
       "      <td>26</td>\n",
       "      <td>5.0</td>\n",
       "      <td>38000</td>\n",
       "      <td>19</td>\n",
       "    </tr>\n",
       "    <tr>\n",
       "      <th>3</th>\n",
       "      <td>Nước Giặt Ariel Hương Downy Túi 3.2Kg</td>\n",
       "      <td>Chăm sóc nhà cửa</td>\n",
       "      <td>186000</td>\n",
       "      <td>149000</td>\n",
       "      <td>224</td>\n",
       "      <td>4.8</td>\n",
       "      <td>37000</td>\n",
       "      <td>20</td>\n",
       "    </tr>\n",
       "    <tr>\n",
       "      <th>4</th>\n",
       "      <td>Combo 2 Túi Nước Giặt Omo Matic Bền Đẹp Cửa Tr...</td>\n",
       "      <td>Chăm sóc nhà cửa</td>\n",
       "      <td>254000</td>\n",
       "      <td>203000</td>\n",
       "      <td>255</td>\n",
       "      <td>4.8</td>\n",
       "      <td>51000</td>\n",
       "      <td>20</td>\n",
       "    </tr>\n",
       "  </tbody>\n",
       "</table>\n",
       "</div>"
      ],
      "text/plain": [
       "                                                Name          Category  \\\n",
       "0  Nước Xả Vải Comfort Cho Da Nhạy Cảm (3.2L/Túi)...  Chăm sóc nhà cửa   \n",
       "1    Túi Nước Giặt Omo Matic Bền Đẹp Cửa Trước 3.7Kg  Chăm sóc nhà cửa   \n",
       "2  Túi Nước Giặt OMO Matic Comfort Hương Tinh dầu...  Chăm sóc nhà cửa   \n",
       "3              Nước Giặt Ariel Hương Downy Túi 3.2Kg  Chăm sóc nhà cửa   \n",
       "4  Combo 2 Túi Nước Giặt Omo Matic Bền Đẹp Cửa Tr...  Chăm sóc nhà cửa   \n",
       "\n",
       "   List-Price   Price  Total Review  Rating Average  Discount  Discount Rate  \n",
       "0      209000  168000          1777             4.7     41000             20  \n",
       "1      199000  150000            32             5.0     49000             25  \n",
       "2      199000  161000            26             5.0     38000             19  \n",
       "3      186000  149000           224             4.8     37000             20  \n",
       "4      254000  203000           255             4.8     51000             20  "
      ]
     },
     "execution_count": 1,
     "metadata": {},
     "output_type": "execute_result"
    }
   ],
   "source": [
    "import pandas as pd\n",
    "import numpy as np\n",
    "from sklearn.model_selection import train_test_split\n",
    "import statistics\n",
    "from sklearn.linear_model import LogisticRegression\n",
    "from sklearn.metrics import accuracy_score\n",
    "import matplotlib.pyplot as plt\n",
    "import seaborn as sns\n",
    "\n",
    "df=pd.read_csv('full_tiki.csv')\n",
    "df.head()"
   ]
  },
  {
   "cell_type": "code",
   "execution_count": 2,
   "id": "approximate-group",
   "metadata": {},
   "outputs": [
    {
     "data": {
      "text/plain": [
       "1625"
      ]
     },
     "execution_count": 2,
     "metadata": {},
     "output_type": "execute_result"
    }
   ],
   "source": [
    "len(df)"
   ]
  },
  {
   "cell_type": "code",
   "execution_count": 3,
   "id": "breathing-relief",
   "metadata": {},
   "outputs": [
    {
     "data": {
      "text/plain": [
       "0"
      ]
     },
     "execution_count": 3,
     "metadata": {},
     "output_type": "execute_result"
    }
   ],
   "source": [
    "df['Discount Rate'].isnull().sum()  # đếm số giá trị thiếu trong cột"
   ]
  },
  {
   "cell_type": "code",
   "execution_count": 4,
   "id": "uniform-garbage",
   "metadata": {},
   "outputs": [
    {
     "data": {
      "text/plain": [
       "0"
      ]
     },
     "execution_count": 4,
     "metadata": {},
     "output_type": "execute_result"
    }
   ],
   "source": [
    "df['Price'].isnull().sum() "
   ]
  },
  {
   "cell_type": "markdown",
   "id": "usual-falls",
   "metadata": {},
   "source": [
    "## Làm sạch dữ liệu"
   ]
  },
  {
   "cell_type": "markdown",
   "id": "victorian-latino",
   "metadata": {},
   "source": [
    "#### Gaussian Distributed"
   ]
  },
  {
   "cell_type": "code",
   "execution_count": 5,
   "id": "indoor-honey",
   "metadata": {},
   "outputs": [],
   "source": [
    "import matplotlib.pyplot as plt"
   ]
  },
  {
   "cell_type": "code",
   "execution_count": 6,
   "id": "refined-warrant",
   "metadata": {},
   "outputs": [
    {
     "data": {
      "text/plain": [
       "(array([1.519e+03, 5.000e+01, 1.700e+01, 5.000e+00, 1.100e+01, 1.000e+01,\n",
       "        3.000e+00, 4.000e+00, 5.000e+00, 1.000e+00]),\n",
       " array([5.99900000e+03, 3.70439910e+06, 7.40279920e+06, 1.11011993e+07,\n",
       "        1.47995994e+07, 1.84979995e+07, 2.21963996e+07, 2.58947997e+07,\n",
       "        2.95931998e+07, 3.32915999e+07, 3.69900000e+07]),\n",
       " <BarContainer object of 10 artists>)"
      ]
     },
     "execution_count": 6,
     "metadata": {},
     "output_type": "execute_result"
    },
    {
     "data": {
      "image/png": "[encoded data removed]",
      "text/plain": [
       "<Figure size 432x288 with 1 Axes>"
      ]
     },
     "metadata": {
      "needs_background": "light"
     },
     "output_type": "display_data"
    }
   ],
   "source": [
    "plt.hist(df['Price'])"
   ]
  },
  {
   "cell_type": "code",
   "execution_count": 7,
   "id": "gothic-driver",
   "metadata": {},
   "outputs": [
    {
     "data": {
      "text/plain": [
       "Text(0, 0.5, 'No of product')"
      ]
     },
     "execution_count": 7,
     "metadata": {},
     "output_type": "execute_result"
    },
    {
     "data": {
      "image/png": "[encoded data removed]",
      "text/plain": [
       "<Figure size 432x288 with 1 Axes>"
      ]
     },
     "metadata": {
      "needs_background": "light"
     },
     "output_type": "display_data"
    }
   ],
   "source": [
    "figure=df.Price.hist(bins=50)\n",
    "figure.set_title('Price')\n",
    "figure.set_xlabel('Price')\n",
    "figure.set_ylabel('No of product')"
   ]
  },
  {
   "cell_type": "code",
   "execution_count": 8,
   "id": "academic-shelf",
   "metadata": {},
   "outputs": [
    {
     "data": {
      "image/png": "[encoded data removed]",
      "text/plain": [
       "<Figure size 432x288 with 1 Axes>"
      ]
     },
     "metadata": {
      "needs_background": "light"
     },
     "output_type": "display_data"
    }
   ],
   "source": [
    "figure=df.boxplot(column=\"Price\")"
   ]
  },
  {
   "cell_type": "markdown",
   "id": "corporate-diversity",
   "metadata": {},
   "source": [
    "#### => Dữ liệu có dạng phân bố lệch"
   ]
  },
  {
   "cell_type": "code",
   "execution_count": 9,
   "id": "dedicated-telephone",
   "metadata": {},
   "outputs": [
    {
     "data": {
      "text/plain": [
       "Text(0, 0.5, 'No of product')"
      ]
     },
     "execution_count": 9,
     "metadata": {},
     "output_type": "execute_result"
    },
    {
     "data": {
      "image/png": "[encoded data removed]",
      "text/plain": [
       "<Figure size 432x288 with 1 Axes>"
      ]
     },
     "metadata": {
      "needs_background": "light"
     },
     "output_type": "display_data"
    }
   ],
   "source": [
    "figure=df['Total Review'].hist(bins=50)\n",
    "figure.set_title('Total Review')\n",
    "figure.set_xlabel('Total Review')\n",
    "figure.set_ylabel('No of product')"
   ]
  },
  {
   "cell_type": "code",
   "execution_count": 10,
   "id": "guided-spirituality",
   "metadata": {},
   "outputs": [
    {
     "data": {
      "image/png": "[encoded data removed]",
      "text/plain": [
       "<Figure size 432x288 with 1 Axes>"
      ]
     },
     "metadata": {
      "needs_background": "light"
     },
     "output_type": "display_data"
    }
   ],
   "source": [
    "figure=df.boxplot(column=\"Total Review\")"
   ]
  },
  {
   "cell_type": "markdown",
   "id": "given-length",
   "metadata": {},
   "source": [
    "#### => Dữ liệu có dạng phân bố lệch"
   ]
  },
  {
   "cell_type": "code",
   "execution_count": 11,
   "id": "activated-composition",
   "metadata": {},
   "outputs": [
    {
     "data": {
      "text/plain": [
       "Text(0, 0.5, 'No of product')"
      ]
     },
     "execution_count": 11,
     "metadata": {},
     "output_type": "execute_result"
    },
    {
     "data": {
      "image/png": "[encoded data removed]",
      "text/plain": [
       "<Figure size 432x288 with 1 Axes>"
      ]
     },
     "metadata": {
      "needs_background": "light"
     },
     "output_type": "display_data"
    }
   ],
   "source": [
    "figure=df['Discount Rate'].hist(bins=50)\n",
    "figure.set_title('Discount Rate')\n",
    "figure.set_xlabel('Discount Rate')\n",
    "figure.set_ylabel('No of product')"
   ]
  },
  {
   "cell_type": "code",
   "execution_count": 12,
   "id": "behavioral-sterling",
   "metadata": {},
   "outputs": [
    {
     "data": {
      "image/png": "[encoded data removed]",
      "text/plain": [
       "<Figure size 432x288 with 1 Axes>"
      ]
     },
     "metadata": {
      "needs_background": "light"
     },
     "output_type": "display_data"
    }
   ],
   "source": [
    "figure=df.boxplot(column=\"Discount Rate\")"
   ]
  },
  {
   "cell_type": "markdown",
   "id": "ordered-baseball",
   "metadata": {},
   "source": [
    "#### => Dữ liệu có dạng phân bố chuẩn"
   ]
  },
  {
   "cell_type": "markdown",
   "id": "broad-movement",
   "metadata": {},
   "source": [
    "#### If The Data Is Normally Distributed We use this #Phân bố chuẩn"
   ]
  },
  {
   "cell_type": "code",
   "execution_count": 13,
   "id": "talented-container",
   "metadata": {},
   "outputs": [
    {
     "name": "stdout",
     "output_type": "stream",
     "text": [
      "-27.72392228895645\n",
      "93.8974607504949\n",
      "33.08676923076923\n"
     ]
    },
    {
     "data": {
      "text/plain": [
       "(None, None, None)"
      ]
     },
     "execution_count": 13,
     "metadata": {},
     "output_type": "execute_result"
    }
   ],
   "source": [
    "uppper_boundary=df['Discount Rate'].mean() + 3* df['Discount Rate'].std()\n",
    "lower_boundary=df['Discount Rate'].mean() - 3* df['Discount Rate'].std()\n",
    "print(lower_boundary), print(uppper_boundary),print(df['Discount Rate'].mean())"
   ]
  },
  {
   "cell_type": "markdown",
   "id": "innocent-durham",
   "metadata": {},
   "source": [
    "#### If Features Are Skewed We Use the below Technique #phân bố lệch "
   ]
  },
  {
   "cell_type": "code",
   "execution_count": 14,
   "id": "introductory-restaurant",
   "metadata": {},
   "outputs": [],
   "source": [
    "#Tính IQR\n",
    "IQR_Price=df['Price'].quantile(0.75)-df['Price'].quantile(0.25)\n",
    "IQR_Review=df['Total Review'].quantile(0.75)-df['Total Review'].quantile(0.25)"
   ]
  },
  {
   "cell_type": "code",
   "execution_count": 15,
   "id": "previous-treatment",
   "metadata": {},
   "outputs": [
    {
     "name": "stdout",
     "output_type": "stream",
     "text": [
      "-1321000.0\n",
      "1969000.0\n"
     ]
    },
    {
     "data": {
      "text/plain": [
       "(None, None)"
      ]
     },
     "execution_count": 15,
     "metadata": {},
     "output_type": "execute_result"
    }
   ],
   "source": [
    "#### Extreme outliers\n",
    "lower_bridge_Price=df['Price'].quantile(0.25)-(IQR_Price*3)\n",
    "upper_bridge_Price=df['Price'].quantile(0.75)+(IQR_Price*3)\n",
    "print(lower_bridge_Price), print(upper_bridge_Price)"
   ]
  },
  {
   "cell_type": "code",
   "execution_count": 16,
   "id": "swedish-semiconductor",
   "metadata": {},
   "outputs": [
    {
     "name": "stdout",
     "output_type": "stream",
     "text": [
      "-533.0\n",
      "734.0\n"
     ]
    },
    {
     "data": {
      "text/plain": [
       "(None, None)"
      ]
     },
     "execution_count": 16,
     "metadata": {},
     "output_type": "execute_result"
    }
   ],
   "source": [
    "#### Extreme outliers\n",
    "lower_bridge_Review=df['Total Review'].quantile(0.25)-(IQR_Review*3)\n",
    "upper_bridge_Review=df['Total Review'].quantile(0.75)+(IQR_Review*3)\n",
    "print(lower_bridge_Review), print(upper_bridge_Review)"
   ]
  },
  {
   "cell_type": "code",
   "execution_count": 17,
   "id": "tender-needle",
   "metadata": {},
   "outputs": [],
   "source": [
    "data=df.copy()"
   ]
  },
  {
   "cell_type": "code",
   "execution_count": 18,
   "id": "disturbed-career",
   "metadata": {},
   "outputs": [],
   "source": [
    "data.loc[data['Price']>=1969000,'Price']=1969000"
   ]
  },
  {
   "cell_type": "code",
   "execution_count": 19,
   "id": "emerging-poetry",
   "metadata": {},
   "outputs": [],
   "source": [
    "data.loc[data['Total Review']>=734,'Total Review']=734"
   ]
  },
  {
   "cell_type": "code",
   "execution_count": 20,
   "id": "hydraulic-mambo",
   "metadata": {},
   "outputs": [],
   "source": [
    "data.loc[data['Discount Rate']>=33,'Discount Rate']=33"
   ]
  },
  {
   "cell_type": "code",
   "execution_count": 21,
   "id": "outside-perception",
   "metadata": {},
   "outputs": [
    {
     "data": {
      "text/plain": [
       "Text(0, 0.5, 'No of product')"
      ]
     },
     "execution_count": 21,
     "metadata": {},
     "output_type": "execute_result"
    },
    {
     "data": {
      "image/png": "[encoded data removed]",
      "text/plain": [
       "<Figure size 432x288 with 1 Axes>"
      ]
     },
     "metadata": {
      "needs_background": "light"
     },
     "output_type": "display_data"
    }
   ],
   "source": [
    "figure=data['Price'].hist(bins=50)\n",
    "figure.set_title('Price')\n",
    "figure.set_xlabel('Price')\n",
    "figure.set_ylabel('No of product')"
   ]
  },
  {
   "cell_type": "code",
   "execution_count": 22,
   "id": "affiliated-address",
   "metadata": {},
   "outputs": [
    {
     "data": {
      "text/plain": [
       "Text(0, 0.5, 'No of product')"
      ]
     },
     "execution_count": 22,
     "metadata": {},
     "output_type": "execute_result"
    },
    {
     "data": {
      "image/png": "[encoded data removed]",
      "text/plain": [
       "<Figure size 432x288 with 1 Axes>"
      ]
     },
     "metadata": {
      "needs_background": "light"
     },
     "output_type": "display_data"
    }
   ],
   "source": [
    "figure=data['Total Review'].hist(bins=50)\n",
    "figure.set_title('Total Review')\n",
    "figure.set_xlabel('Total Review')\n",
    "figure.set_ylabel('No of product')"
   ]
  },
  {
   "cell_type": "code",
   "execution_count": 23,
   "id": "handled-nashville",
   "metadata": {},
   "outputs": [
    {
     "data": {
      "text/plain": [
       "Text(0, 0.5, 'No of product')"
      ]
     },
     "execution_count": 23,
     "metadata": {},
     "output_type": "execute_result"
    },
    {
     "data": {
      "image/png": "[encoded data removed]",
      "text/plain": [
       "<Figure size 432x288 with 1 Axes>"
      ]
     },
     "metadata": {
      "needs_background": "light"
     },
     "output_type": "display_data"
    }
   ],
   "source": [
    "figure=data['Discount Rate'].hist(bins=50)\n",
    "figure.set_title('Discount Rate')\n",
    "figure.set_xlabel('Discount Rate')\n",
    "figure.set_ylabel('No of product')"
   ]
  },
  {
   "cell_type": "code",
   "execution_count": 24,
   "id": "threaded-singapore",
   "metadata": {},
   "outputs": [],
   "source": [
    "from sklearn.model_selection import train_test_split\n",
    "X_train,X_test,y_train,y_test=train_test_split(data[['Discount Rate','Price']],data['Rating Average'],test_size=0.3)"
   ]
  },
  {
   "cell_type": "code",
   "execution_count": 25,
   "id": "weird-display",
   "metadata": {},
   "outputs": [
    {
     "ename": "ValueError",
     "evalue": "Unknown label type: 'continuous'",
     "output_type": "error",
     "traceback": [
      "\u001b[1;31m---------------------------------------------------------------------------\u001b[0m",
      "\u001b[1;31mValueError\u001b[0m                                Traceback (most recent call last)",
      "\u001b[1;32m<ipython-input-25-4a88bd57e525>\u001b[0m in \u001b[0;36m<module>\u001b[1;34m\u001b[0m\n\u001b[0;32m      2\u001b[0m \u001b[1;32mfrom\u001b[0m \u001b[0msklearn\u001b[0m\u001b[1;33m.\u001b[0m\u001b[0mlinear_model\u001b[0m \u001b[1;32mimport\u001b[0m \u001b[0mLogisticRegression\u001b[0m\u001b[1;33m\u001b[0m\u001b[1;33m\u001b[0m\u001b[0m\n\u001b[0;32m      3\u001b[0m \u001b[0mclassifier\u001b[0m\u001b[1;33m=\u001b[0m\u001b[0mLogisticRegression\u001b[0m\u001b[1;33m(\u001b[0m\u001b[1;33m)\u001b[0m\u001b[1;33m\u001b[0m\u001b[1;33m\u001b[0m\u001b[0m\n\u001b[1;32m----> 4\u001b[1;33m \u001b[0mclassifier\u001b[0m\u001b[1;33m.\u001b[0m\u001b[0mfit\u001b[0m\u001b[1;33m(\u001b[0m\u001b[0mX_train\u001b[0m\u001b[1;33m,\u001b[0m\u001b[0my_train\u001b[0m\u001b[1;33m)\u001b[0m\u001b[1;33m\u001b[0m\u001b[1;33m\u001b[0m\u001b[0m\n\u001b[0m\u001b[0;32m      5\u001b[0m \u001b[0my_pred\u001b[0m\u001b[1;33m=\u001b[0m\u001b[0mclassifier\u001b[0m\u001b[1;33m.\u001b[0m\u001b[0mpredict\u001b[0m\u001b[1;33m(\u001b[0m\u001b[0mX_test\u001b[0m\u001b[1;33m)\u001b[0m\u001b[1;33m\u001b[0m\u001b[1;33m\u001b[0m\u001b[0m\n\u001b[0;32m      6\u001b[0m \u001b[1;33m\u001b[0m\u001b[0m\n",
      "\u001b[1;32mc:\\users\\admin\\appdata\\local\\programs\\python\\python39\\lib\\site-packages\\sklearn\\linear_model\\_logistic.py\u001b[0m in \u001b[0;36mfit\u001b[1;34m(self, X, y, sample_weight)\u001b[0m\n\u001b[0;32m   1345\u001b[0m                                    \u001b[0morder\u001b[0m\u001b[1;33m=\u001b[0m\u001b[1;34m\"C\"\u001b[0m\u001b[1;33m,\u001b[0m\u001b[1;33m\u001b[0m\u001b[1;33m\u001b[0m\u001b[0m\n\u001b[0;32m   1346\u001b[0m                                    accept_large_sparse=solver != 'liblinear')\n\u001b[1;32m-> 1347\u001b[1;33m         \u001b[0mcheck_classification_targets\u001b[0m\u001b[1;33m(\u001b[0m\u001b[0my\u001b[0m\u001b[1;33m)\u001b[0m\u001b[1;33m\u001b[0m\u001b[1;33m\u001b[0m\u001b[0m\n\u001b[0m\u001b[0;32m   1348\u001b[0m         \u001b[0mself\u001b[0m\u001b[1;33m.\u001b[0m\u001b[0mclasses_\u001b[0m \u001b[1;33m=\u001b[0m \u001b[0mnp\u001b[0m\u001b[1;33m.\u001b[0m\u001b[0munique\u001b[0m\u001b[1;33m(\u001b[0m\u001b[0my\u001b[0m\u001b[1;33m)\u001b[0m\u001b[1;33m\u001b[0m\u001b[1;33m\u001b[0m\u001b[0m\n\u001b[0;32m   1349\u001b[0m \u001b[1;33m\u001b[0m\u001b[0m\n",
      "\u001b[1;32mc:\\users\\admin\\appdata\\local\\programs\\python\\python39\\lib\\site-packages\\sklearn\\utils\\multiclass.py\u001b[0m in \u001b[0;36mcheck_classification_targets\u001b[1;34m(y)\u001b[0m\n\u001b[0;32m    181\u001b[0m     if y_type not in ['binary', 'multiclass', 'multiclass-multioutput',\n\u001b[0;32m    182\u001b[0m                       'multilabel-indicator', 'multilabel-sequences']:\n\u001b[1;32m--> 183\u001b[1;33m         \u001b[1;32mraise\u001b[0m \u001b[0mValueError\u001b[0m\u001b[1;33m(\u001b[0m\u001b[1;34m\"Unknown label type: %r\"\u001b[0m \u001b[1;33m%\u001b[0m \u001b[0my_type\u001b[0m\u001b[1;33m)\u001b[0m\u001b[1;33m\u001b[0m\u001b[1;33m\u001b[0m\u001b[0m\n\u001b[0m\u001b[0;32m    184\u001b[0m \u001b[1;33m\u001b[0m\u001b[0m\n\u001b[0;32m    185\u001b[0m \u001b[1;33m\u001b[0m\u001b[0m\n",
      "\u001b[1;31mValueError\u001b[0m: Unknown label type: 'continuous'"
     ]
    }
   ],
   "source": [
    "### Logistic Regression\n",
    "from sklearn.linear_model import LogisticRegression\n",
    "classifier=LogisticRegression()\n",
    "classifier.fit(X_train,y_train)\n",
    "y_pred=classifier.predict(X_test)\n",
    "\n",
    "from sklearn.metrics import accuracy_score\n",
    "print(\"Accuracy_score: {}\".format(accuracy_score(y_test,y_pred)))"
   ]
  },
  {
   "cell_type": "markdown",
   "id": "isolated-steel",
   "metadata": {},
   "source": [
    "# TRỰC QUAN HÓA DỮ LIỆU"
   ]
  },
  {
   "cell_type": "code",
   "execution_count": null,
   "id": "literary-conference",
   "metadata": {},
   "outputs": [],
   "source": [
    "df['Category'].value_counts()"
   ]
  },
  {
   "cell_type": "markdown",
   "id": "digital-worcester",
   "metadata": {},
   "source": [
    "Có 10 loại sản phẩm được ưa chuộng "
   ]
  },
  {
   "cell_type": "code",
   "execution_count": null,
   "id": "tribal-annex",
   "metadata": {},
   "outputs": [],
   "source": [
    "df['Category'].value_counts()\n",
    "plt.figure(figsize=(15,10))\n",
    "sns.countplot(x='Category', data=df, order = df['Category'].value_counts().index )\n",
    "plt.xticks(rotation=45)"
   ]
  },
  {
   "cell_type": "code",
   "execution_count": null,
   "id": "crucial-maine",
   "metadata": {},
   "outputs": [],
   "source": [
    "max(df['Price'])"
   ]
  },
  {
   "cell_type": "code",
   "execution_count": null,
   "id": "permanent-destiny",
   "metadata": {},
   "outputs": [],
   "source": [
    "min(df['Price'])"
   ]
  },
  {
   "cell_type": "code",
   "execution_count": null,
   "id": "celtic-satin",
   "metadata": {},
   "outputs": [],
   "source": [
    "data = df.copy()\n",
    "data_100nghin = data.loc[data['List-Price'] <= 100000]\n",
    "data_100nghin['Category'].value_counts().plot(kind = 'barh')"
   ]
  },
  {
   "cell_type": "code",
   "execution_count": null,
   "id": "moderate-nomination",
   "metadata": {},
   "outputs": [],
   "source": [
    "data_500nghin = data.loc[ (100000 < data['List-Price']) & ( data['List-Price'] <= 500000 )]\n",
    "data_500nghin['Category'].value_counts().plot(kind = 'barh')"
   ]
  },
  {
   "cell_type": "code",
   "execution_count": null,
   "id": "obvious-clone",
   "metadata": {},
   "outputs": [],
   "source": [
    "data_1trieu = data.loc[ (500000 < data['List-Price']) & ( data['List-Price'] <= 1000000 )]\n",
    "data_1trieu['Category'].value_counts().plot(kind = 'barh')"
   ]
  },
  {
   "cell_type": "code",
   "execution_count": null,
   "id": "rubber-truth",
   "metadata": {},
   "outputs": [],
   "source": [
    "data_5trieu = data.loc[ (1000000 < data['List-Price']) & ( data['List-Price'] <= 5000000 )]\n",
    "data_5trieu['Category'].value_counts().plot(kind = 'barh')"
   ]
  },
  {
   "cell_type": "code",
   "execution_count": null,
   "id": "consistent-nation",
   "metadata": {},
   "outputs": [],
   "source": [
    "data_10trieu = data.loc[ (5000000 < data['List-Price']) & ( data['List-Price'] <= 10000000 )]\n",
    "data_10trieu['Category'].value_counts().plot(kind = 'barh')"
   ]
  },
  {
   "cell_type": "code",
   "execution_count": null,
   "id": "liquid-arlington",
   "metadata": {},
   "outputs": [],
   "source": [
    "data_L10trieu = data.loc[ (10000000 < data['List-Price'])]\n",
    "data_L10trieu['Category'].value_counts().plot(kind = 'barh')"
   ]
  },
  {
   "cell_type": "code",
   "execution_count": null,
   "id": "former-original",
   "metadata": {},
   "outputs": [],
   "source": [
    "data = df.copy()\n",
    "data.loc[data['Total Review'] == 0,'Total Review'] = 3\n",
    "data['Total Review']"
   ]
  },
  {
   "cell_type": "code",
   "execution_count": null,
   "id": "dutch-grounds",
   "metadata": {},
   "outputs": [],
   "source": []
  }
 ],
 "metadata": {
  "kernelspec": {
   "display_name": "Python 3",
   "language": "python",
   "name": "python3"
  },
  "language_info": {
   "codemirror_mode": {
    "name": "ipython",
    "version": 3
   },
   "file_extension": ".py",
   "mimetype": "text/x-python",
   "name": "python",
   "nbconvert_exporter": "python",
   "pygments_lexer": "ipython3",
   "version": "3.9.1"
  }
 },
 "nbformat": 4,
 "nbformat_minor": 5
}
