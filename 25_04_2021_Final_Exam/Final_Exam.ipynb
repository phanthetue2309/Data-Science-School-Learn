{
 "cells": [
  {
   "cell_type": "markdown",
   "id": "solid-clearance",
   "metadata": {},
   "source": [
    "# THU THẬP DỮ LIỆU"
   ]
  },
  {
   "cell_type": "markdown",
   "id": "e5542e06-56d1-4e04-878e-239a959b94ef",
   "metadata": {},
   "source": [
    "Nguồn thu thập dữ liệu : https://tiki.vn/\n",
    "Dữ liệu sau khi thu thập được từ file json sẽ được đổ vào file csv. "
   ]
  },
  {
   "cell_type": "code",
   "execution_count": 1,
   "id": "further-omega",
   "metadata": {},
   "outputs": [
    {
     "data": {
      "text/html": [
       "<div>\n",
       "<style scoped>\n",
       "    .dataframe tbody tr th:only-of-type {\n",
       "        vertical-align: middle;\n",
       "    }\n",
       "\n",
       "    .dataframe tbody tr th {\n",
       "        vertical-align: top;\n",
       "    }\n",
       "\n",
       "    .dataframe thead th {\n",
       "        text-align: right;\n",
       "    }\n",
       "</style>\n",
       "<table border=\"1\" class=\"dataframe\">\n",
       "  <thead>\n",
       "    <tr style=\"text-align: right;\">\n",
       "      <th></th>\n",
       "      <th>Name</th>\n",
       "      <th>Category</th>\n",
       "      <th>List-Price</th>\n",
       "      <th>Price</th>\n",
       "      <th>Total Review</th>\n",
       "      <th>Rating Average</th>\n",
       "      <th>Discount</th>\n",
       "      <th>Discount Rate</th>\n",
       "      <th>index</th>\n",
       "    </tr>\n",
       "  </thead>\n",
       "  <tbody>\n",
       "    <tr>\n",
       "      <th>0</th>\n",
       "      <td>Nước Xả Vải Comfort Cho Da Nhạy Cảm (3.2L/Túi)...</td>\n",
       "      <td>Chăm sóc nhà cửa</td>\n",
       "      <td>209000</td>\n",
       "      <td>168000</td>\n",
       "      <td>1777</td>\n",
       "      <td>4.7</td>\n",
       "      <td>41000</td>\n",
       "      <td>20</td>\n",
       "      <td>0</td>\n",
       "    </tr>\n",
       "    <tr>\n",
       "      <th>1</th>\n",
       "      <td>Túi Nước Giặt Omo Matic Bền Đẹp Cửa Trước 3.7Kg</td>\n",
       "      <td>Chăm sóc nhà cửa</td>\n",
       "      <td>199000</td>\n",
       "      <td>150000</td>\n",
       "      <td>32</td>\n",
       "      <td>5.0</td>\n",
       "      <td>49000</td>\n",
       "      <td>25</td>\n",
       "      <td>1</td>\n",
       "    </tr>\n",
       "    <tr>\n",
       "      <th>2</th>\n",
       "      <td>Túi Nước Giặt OMO Matic Comfort Hương Tinh dầu...</td>\n",
       "      <td>Chăm sóc nhà cửa</td>\n",
       "      <td>199000</td>\n",
       "      <td>161000</td>\n",
       "      <td>26</td>\n",
       "      <td>5.0</td>\n",
       "      <td>38000</td>\n",
       "      <td>19</td>\n",
       "      <td>2</td>\n",
       "    </tr>\n",
       "    <tr>\n",
       "      <th>3</th>\n",
       "      <td>Nước Giặt Ariel Hương Downy Túi 3.2Kg</td>\n",
       "      <td>Chăm sóc nhà cửa</td>\n",
       "      <td>186000</td>\n",
       "      <td>149000</td>\n",
       "      <td>224</td>\n",
       "      <td>4.8</td>\n",
       "      <td>37000</td>\n",
       "      <td>20</td>\n",
       "      <td>3</td>\n",
       "    </tr>\n",
       "    <tr>\n",
       "      <th>4</th>\n",
       "      <td>Combo 2 Túi Nước Giặt Omo Matic Bền Đẹp Cửa Tr...</td>\n",
       "      <td>Chăm sóc nhà cửa</td>\n",
       "      <td>254000</td>\n",
       "      <td>203000</td>\n",
       "      <td>255</td>\n",
       "      <td>4.8</td>\n",
       "      <td>51000</td>\n",
       "      <td>20</td>\n",
       "      <td>4</td>\n",
       "    </tr>\n",
       "  </tbody>\n",
       "</table>\n",
       "</div>"
      ],
      "text/plain": [
       "                                                Name          Category  \\\n",
       "0  Nước Xả Vải Comfort Cho Da Nhạy Cảm (3.2L/Túi)...  Chăm sóc nhà cửa   \n",
       "1    Túi Nước Giặt Omo Matic Bền Đẹp Cửa Trước 3.7Kg  Chăm sóc nhà cửa   \n",
       "2  Túi Nước Giặt OMO Matic Comfort Hương Tinh dầu...  Chăm sóc nhà cửa   \n",
       "3              Nước Giặt Ariel Hương Downy Túi 3.2Kg  Chăm sóc nhà cửa   \n",
       "4  Combo 2 Túi Nước Giặt Omo Matic Bền Đẹp Cửa Tr...  Chăm sóc nhà cửa   \n",
       "\n",
       "   List-Price   Price  Total Review  Rating Average  Discount  Discount Rate  \\\n",
       "0      209000  168000          1777             4.7     41000             20   \n",
       "1      199000  150000            32             5.0     49000             25   \n",
       "2      199000  161000            26             5.0     38000             19   \n",
       "3      186000  149000           224             4.8     37000             20   \n",
       "4      254000  203000           255             4.8     51000             20   \n",
       "\n",
       "   index  \n",
       "0      0  \n",
       "1      1  \n",
       "2      2  \n",
       "3      3  \n",
       "4      4  "
      ]
     },
     "execution_count": 1,
     "metadata": {},
     "output_type": "execute_result"
    }
   ],
   "source": [
    "import pandas as pd\n",
    "import numpy as np\n",
    "import matplotlib.pyplot as plt\n",
    "import seaborn as sns\n",
    "\n",
    "from sklearn.model_selection import train_test_split\n",
    "from sklearn.linear_model import LogisticRegression\n",
    "from sklearn.metrics import accuracy_score\n",
    "from sklearn.preprocessing import LabelEncoder, MinMaxScaler\n",
    "\n",
    "df=pd.read_csv('full_tiki.csv')\n",
    "df['index'] = range(0, len(df))\n",
    "df.set_index(['index'])\n",
    "df.head()"
   ]
  },
  {
   "cell_type": "code",
   "execution_count": 2,
   "id": "elder-sequence",
   "metadata": {},
   "outputs": [
    {
     "data": {
      "text/plain": [
       "1625"
      ]
     },
     "execution_count": 2,
     "metadata": {},
     "output_type": "execute_result"
    }
   ],
   "source": [
    "len(df)  # số mẫu "
   ]
  },
  {
   "cell_type": "code",
   "execution_count": 3,
   "id": "likely-monitor",
   "metadata": {},
   "outputs": [
    {
     "data": {
      "text/plain": [
       "Index(['Name', 'Category', 'List-Price', 'Price', 'Total Review',\n",
       "       'Rating Average', 'Discount', 'Discount Rate', 'index'],\n",
       "      dtype='object')"
      ]
     },
     "execution_count": 3,
     "metadata": {},
     "output_type": "execute_result"
    }
   ],
   "source": [
    "df.columns # thông tin các cột"
   ]
  },
  {
   "cell_type": "code",
   "execution_count": 4,
   "id": "talented-seeker",
   "metadata": {},
   "outputs": [],
   "source": [
    "LE = LabelEncoder()\n",
    "df['Type-Category'] = LE.fit_transform(df['Category']) # đánh số cho các loại sản phẩm"
   ]
  },
  {
   "cell_type": "code",
   "execution_count": 5,
   "id": "final-appreciation",
   "metadata": {},
   "outputs": [
    {
     "data": {
      "text/plain": [
       "0"
      ]
     },
     "execution_count": 5,
     "metadata": {},
     "output_type": "execute_result"
    }
   ],
   "source": [
    "df['Price'].isnull().sum() "
   ]
  },
  {
   "cell_type": "markdown",
   "id": "copyrighted-moisture",
   "metadata": {},
   "source": [
    "# TRÍCH XUẤT ĐẶC TRƯNG"
   ]
  },
  {
   "cell_type": "markdown",
   "id": "protecting-hampshire",
   "metadata": {},
   "source": [
    "## TRỰC QUAN HÓA DỮ LIỆU"
   ]
  },
  {
   "cell_type": "code",
   "execution_count": 6,
   "id": "decreased-washington",
   "metadata": {},
   "outputs": [
    {
     "data": {
      "text/plain": [
       "Thực phẩm                     222\n",
       "Đồ dùng nhà bếp               208\n",
       "Làm Đẹp - Sức Khỏe            174\n",
       "Máy Ảnh - Máy Quay Phim       173\n",
       "Chăm sóc thú cưng             172\n",
       "Sách                          172\n",
       "Thiết Bị Số - Phụ Kiện Số     172\n",
       "Điện Thoại - Máy Tính Bảng    167\n",
       "Chăm sóc nhà cửa              165\n",
       "Name: Category, dtype: int64"
      ]
     },
     "execution_count": 6,
     "metadata": {},
     "output_type": "execute_result"
    }
   ],
   "source": [
    "df['Category'].value_counts()"
   ]
  },
  {
   "cell_type": "markdown",
   "id": "senior-nirvana",
   "metadata": {},
   "source": [
    "## Có 9 loại sản phẩm được ưa chuộng "
   ]
  },
  {
   "cell_type": "code",
   "execution_count": 7,
   "id": "perceived-giving",
   "metadata": {},
   "outputs": [
    {
     "data": {
      "text/plain": [
       "(array([0, 1, 2, 3, 4, 5, 6, 7, 8]),\n",
       " [Text(0, 0, 'Thực phẩm'),\n",
       "  Text(1, 0, 'Đồ dùng nhà bếp'),\n",
       "  Text(2, 0, 'Làm Đẹp - Sức Khỏe'),\n",
       "  Text(3, 0, 'Máy Ảnh - Máy Quay Phim'),\n",
       "  Text(4, 0, 'Chăm sóc thú cưng'),\n",
       "  Text(5, 0, 'Sách'),\n",
       "  Text(6, 0, 'Thiết Bị Số - Phụ Kiện Số'),\n",
       "  Text(7, 0, 'Điện Thoại - Máy Tính Bảng'),\n",
       "  Text(8, 0, 'Chăm sóc nhà cửa')])"
      ]
     },
     "execution_count": 7,
     "metadata": {},
     "output_type": "execute_result"
    },
    {
     "data": {
      "image/png": "[encoded data removed]",
      "text/plain": [
       "<Figure size 1080x720 with 1 Axes>"
      ]
     },
     "metadata": {
      "needs_background": "light"
     },
     "output_type": "display_data"
    }
   ],
   "source": [
    "plt.figure(figsize=(15,10))\n",
    "sns.countplot(x='Category', data=df, order = df['Category'].value_counts().index )\n",
    "plt.xticks(rotation=45)"
   ]
  },
  {
   "cell_type": "code",
   "execution_count": 8,
   "id": "assured-gambling",
   "metadata": {},
   "outputs": [
    {
     "data": {
      "text/plain": [
       "36990000"
      ]
     },
     "execution_count": 8,
     "metadata": {},
     "output_type": "execute_result"
    }
   ],
   "source": [
    "max(df['Price'])"
   ]
  },
  {
   "cell_type": "code",
   "execution_count": 9,
   "id": "accessory-entrance",
   "metadata": {},
   "outputs": [
    {
     "data": {
      "text/plain": [
       "5999"
      ]
     },
     "execution_count": 9,
     "metadata": {},
     "output_type": "execute_result"
    }
   ],
   "source": [
    "min(df['Price'])"
   ]
  },
  {
   "cell_type": "code",
   "execution_count": 10,
   "id": "contained-stanford",
   "metadata": {},
   "outputs": [
    {
     "data": {
      "text/plain": [
       "<AxesSubplot:>"
      ]
     },
     "execution_count": 10,
     "metadata": {},
     "output_type": "execute_result"
    },
    {
     "data": {
      "image/png": "[encoded data removed]",
      "text/plain": [
       "<Figure size 432x288 with 1 Axes>"
      ]
     },
     "metadata": {
      "needs_background": "light"
     },
     "output_type": "display_data"
    }
   ],
   "source": [
    "data = df.copy()\n",
    "data_100nghin = data.loc[data['List-Price'] <= 100000]\n",
    "data_100nghin['Category'].value_counts().plot(kind = 'barh')"
   ]
  },
  {
   "cell_type": "code",
   "execution_count": 11,
   "id": "alien-payment",
   "metadata": {},
   "outputs": [
    {
     "data": {
      "text/plain": [
       "<AxesSubplot:>"
      ]
     },
     "execution_count": 11,
     "metadata": {},
     "output_type": "execute_result"
    },
    {
     "data": {
      "image/png": "[encoded data removed]",
      "text/plain": [
       "<Figure size 432x288 with 1 Axes>"
      ]
     },
     "metadata": {
      "needs_background": "light"
     },
     "output_type": "display_data"
    }
   ],
   "source": [
    "data_500nghin = data.loc[ (100000 < data['List-Price']) & ( data['List-Price'] <= 500000 )]\n",
    "data_500nghin['Category'].value_counts().plot(kind = 'barh')"
   ]
  },
  {
   "cell_type": "code",
   "execution_count": 12,
   "id": "compressed-bristol",
   "metadata": {},
   "outputs": [
    {
     "data": {
      "text/plain": [
       "<AxesSubplot:>"
      ]
     },
     "execution_count": 12,
     "metadata": {},
     "output_type": "execute_result"
    },
    {
     "data": {
      "image/png": "[encoded data removed]",
      "text/plain": [
       "<Figure size 432x288 with 1 Axes>"
      ]
     },
     "metadata": {
      "needs_background": "light"
     },
     "output_type": "display_data"
    }
   ],
   "source": [
    "data_1trieu = data.loc[ (500000 < data['List-Price']) & ( data['List-Price'] <= 1000000 )]\n",
    "data_1trieu['Category'].value_counts().plot(kind = 'barh')"
   ]
  },
  {
   "cell_type": "code",
   "execution_count": 13,
   "id": "governmental-contemporary",
   "metadata": {},
   "outputs": [
    {
     "data": {
      "text/plain": [
       "<AxesSubplot:>"
      ]
     },
     "execution_count": 13,
     "metadata": {},
     "output_type": "execute_result"
    },
    {
     "data": {
      "image/png": "[encoded data removed]",
      "text/plain": [
       "<Figure size 432x288 with 1 Axes>"
      ]
     },
     "metadata": {
      "needs_background": "light"
     },
     "output_type": "display_data"
    }
   ],
   "source": [
    "data_5trieu = data.loc[ (1000000 < data['List-Price']) & ( data['List-Price'] <= 5000000 )]\n",
    "data_5trieu['Category'].value_counts().plot(kind = 'barh')"
   ]
  },
  {
   "cell_type": "code",
   "execution_count": 14,
   "id": "collective-produce",
   "metadata": {},
   "outputs": [
    {
     "data": {
      "text/plain": [
       "<AxesSubplot:>"
      ]
     },
     "execution_count": 14,
     "metadata": {},
     "output_type": "execute_result"
    },
    {
     "data": {
      "image/png": "[encoded data removed]",
      "text/plain": [
       "<Figure size 432x288 with 1 Axes>"
      ]
     },
     "metadata": {
      "needs_background": "light"
     },
     "output_type": "display_data"
    }
   ],
   "source": [
    "data_10trieu = data.loc[ (5000000 < data['List-Price']) & ( data['List-Price'] <= 10000000 )]\n",
    "data_10trieu['Category'].value_counts().plot(kind = 'barh')"
   ]
  },
  {
   "cell_type": "code",
   "execution_count": 15,
   "id": "extraordinary-lexington",
   "metadata": {},
   "outputs": [
    {
     "data": {
      "text/plain": [
       "<AxesSubplot:>"
      ]
     },
     "execution_count": 15,
     "metadata": {},
     "output_type": "execute_result"
    },
    {
     "data": {
      "image/png": "[encoded data removed]",
      "text/plain": [
       "<Figure size 432x288 with 1 Axes>"
      ]
     },
     "metadata": {
      "needs_background": "light"
     },
     "output_type": "display_data"
    }
   ],
   "source": [
    "data_L10trieu = data.loc[ (10000000 < data['List-Price'])]\n",
    "data_L10trieu['Category'].value_counts().plot(kind = 'barh')"
   ]
  },
  {
   "cell_type": "code",
   "execution_count": 16,
   "id": "alpine-mission",
   "metadata": {},
   "outputs": [
    {
     "data": {
      "text/plain": [
       "<AxesSubplot:>"
      ]
     },
     "execution_count": 16,
     "metadata": {},
     "output_type": "execute_result"
    },
    {
     "data": {
      "image/png": "[encoded data removed]",
      "text/plain": [
       "<Figure size 432x288 with 1 Axes>"
      ]
     },
     "metadata": {
      "needs_background": "light"
     },
     "output_type": "display_data"
    }
   ],
   "source": [
    "df['Rating Average'].hist()"
   ]
  },
  {
   "cell_type": "code",
   "execution_count": 17,
   "id": "exclusive-internship",
   "metadata": {},
   "outputs": [
    {
     "data": {
      "text/plain": [
       "<AxesSubplot:>"
      ]
     },
     "execution_count": 17,
     "metadata": {},
     "output_type": "execute_result"
    },
    {
     "data": {
      "image/png": "[encoded data removed]",
      "text/plain": [
       "<Figure size 432x288 with 1 Axes>"
      ]
     },
     "metadata": {
      "needs_background": "light"
     },
     "output_type": "display_data"
    }
   ],
   "source": [
    "df['Price'].hist()"
   ]
  },
  {
   "cell_type": "code",
   "execution_count": 18,
   "id": "exciting-qatar",
   "metadata": {},
   "outputs": [
    {
     "data": {
      "text/html": [
       "<div>\n",
       "<style scoped>\n",
       "    .dataframe tbody tr th:only-of-type {\n",
       "        vertical-align: middle;\n",
       "    }\n",
       "\n",
       "    .dataframe tbody tr th {\n",
       "        vertical-align: top;\n",
       "    }\n",
       "\n",
       "    .dataframe thead th {\n",
       "        text-align: right;\n",
       "    }\n",
       "</style>\n",
       "<table border=\"1\" class=\"dataframe\">\n",
       "  <thead>\n",
       "    <tr style=\"text-align: right;\">\n",
       "      <th></th>\n",
       "      <th>Price</th>\n",
       "    </tr>\n",
       "    <tr>\n",
       "      <th>Category</th>\n",
       "      <th></th>\n",
       "    </tr>\n",
       "  </thead>\n",
       "  <tbody>\n",
       "    <tr>\n",
       "      <th>Chăm sóc nhà cửa</th>\n",
       "      <td>1.632933e+05</td>\n",
       "    </tr>\n",
       "    <tr>\n",
       "      <th>Chăm sóc thú cưng</th>\n",
       "      <td>1.432579e+05</td>\n",
       "    </tr>\n",
       "    <tr>\n",
       "      <th>Làm Đẹp - Sức Khỏe</th>\n",
       "      <td>6.295395e+05</td>\n",
       "    </tr>\n",
       "    <tr>\n",
       "      <th>Máy Ảnh - Máy Quay Phim</th>\n",
       "      <td>1.396833e+06</td>\n",
       "    </tr>\n",
       "    <tr>\n",
       "      <th>Sách</th>\n",
       "      <td>1.254558e+05</td>\n",
       "    </tr>\n",
       "    <tr>\n",
       "      <th>Thiết Bị Số - Phụ Kiện Số</th>\n",
       "      <td>6.432226e+05</td>\n",
       "    </tr>\n",
       "    <tr>\n",
       "      <th>Thực phẩm</th>\n",
       "      <td>1.168476e+05</td>\n",
       "    </tr>\n",
       "    <tr>\n",
       "      <th>Điện Thoại - Máy Tính Bảng</th>\n",
       "      <td>6.653945e+06</td>\n",
       "    </tr>\n",
       "    <tr>\n",
       "      <th>Đồ dùng nhà bếp</th>\n",
       "      <td>1.219789e+06</td>\n",
       "    </tr>\n",
       "  </tbody>\n",
       "</table>\n",
       "</div>"
      ],
      "text/plain": [
       "                                   Price\n",
       "Category                                \n",
       "Chăm sóc nhà cửa            1.632933e+05\n",
       "Chăm sóc thú cưng           1.432579e+05\n",
       "Làm Đẹp - Sức Khỏe          6.295395e+05\n",
       "Máy Ảnh - Máy Quay Phim     1.396833e+06\n",
       "Sách                        1.254558e+05\n",
       "Thiết Bị Số - Phụ Kiện Số   6.432226e+05\n",
       "Thực phẩm                   1.168476e+05\n",
       "Điện Thoại - Máy Tính Bảng  6.653945e+06\n",
       "Đồ dùng nhà bếp             1.219789e+06"
      ]
     },
     "execution_count": 18,
     "metadata": {},
     "output_type": "execute_result"
    }
   ],
   "source": [
    "pd.pivot_table(df, index = 'Category', values = 'Price') # tính mức giá trung bình của từng loại sản phẩm "
   ]
  },
  {
   "cell_type": "code",
   "execution_count": 19,
   "id": "representative-annotation",
   "metadata": {},
   "outputs": [],
   "source": [
    "pd.options.display.max_rows\n",
    "pd.set_option('display.max_rows', None) # cho phép hiển thị tất cả các dòng\n",
    "pd.options.mode.chained_assignment = None  # default='warn' "
   ]
  },
  {
   "cell_type": "markdown",
   "id": "4a6cdf44-8794-4cce-9a95-326e217d5cb3",
   "metadata": {},
   "source": [
    "## Trực quan hóa dữ liệu TRƯỚC khi xử lý ngoại lệ"
   ]
  },
  {
   "cell_type": "code",
   "execution_count": 20,
   "id": "52645979-865b-4ceb-b905-6eeb73872c16",
   "metadata": {},
   "outputs": [
    {
     "data": {
      "text/plain": [
       "<AxesSubplot:>"
      ]
     },
     "execution_count": 20,
     "metadata": {},
     "output_type": "execute_result"
    },
    {
     "data": {
      "image/png": "[encoded data removed]",
      "text/plain": [
       "<Figure size 432x288 with 1 Axes>"
      ]
     },
     "metadata": {
      "needs_background": "light"
     },
     "output_type": "display_data"
    }
   ],
   "source": [
    "df.boxplot(column=\"Discount Rate\")"
   ]
  },
  {
   "cell_type": "code",
   "execution_count": 21,
   "id": "959e9997-a4eb-43ed-8665-74673df3ce06",
   "metadata": {},
   "outputs": [
    {
     "data": {
      "text/plain": [
       "<AxesSubplot:>"
      ]
     },
     "execution_count": 21,
     "metadata": {},
     "output_type": "execute_result"
    },
    {
     "data": {
      "image/png": "[encoded data removed]",
      "text/plain": [
       "<Figure size 432x288 with 1 Axes>"
      ]
     },
     "metadata": {
      "needs_background": "light"
     },
     "output_type": "display_data"
    }
   ],
   "source": [
    "df.boxplot(column=\"Price\")"
   ]
  },
  {
   "cell_type": "code",
   "execution_count": 22,
   "id": "016d277b-8ef3-479d-9d0d-d422b0aa05af",
   "metadata": {},
   "outputs": [
    {
     "data": {
      "text/plain": [
       "<AxesSubplot:>"
      ]
     },
     "execution_count": 22,
     "metadata": {},
     "output_type": "execute_result"
    },
    {
     "data": {
      "image/png": "[encoded data removed]",
      "text/plain": [
       "<Figure size 432x288 with 1 Axes>"
      ]
     },
     "metadata": {
      "needs_background": "light"
     },
     "output_type": "display_data"
    }
   ],
   "source": [
    "df.boxplot(column=\"Total Review\")"
   ]
  },
  {
   "cell_type": "markdown",
   "id": "52e0f192-4253-4aab-b2b3-89918bf1680d",
   "metadata": {},
   "source": [
    "### Nhận xét : \n",
    "Thông qua 3 hình vẽ trên ta thấy được rằng Discount Rate có phân bố chuẩn còn Price và Total Review không có phân bố chuẩn mà phân bố lệch.\n",
    "\n",
    "Dựa vào kết quả thấy được ta áp dụng xử lý Ngoại lệ "
   ]
  },
  {
   "cell_type": "markdown",
   "id": "preceding-consortium",
   "metadata": {},
   "source": [
    "### Solving Outliers"
   ]
  },
  {
   "cell_type": "code",
   "execution_count": 23,
   "id": "861f669c-013d-4fc0-bd41-ed229b6f837e",
   "metadata": {},
   "outputs": [],
   "source": [
    "data = df.copy()"
   ]
  },
  {
   "cell_type": "code",
   "execution_count": 24,
   "id": "otherwise-flight",
   "metadata": {},
   "outputs": [],
   "source": [
    "def SolvingOutliers(data, choice = 0) :\n",
    "    '''\n",
    "    Hàm xử lý ngoại lệ\n",
    "    '''\n",
    "    if choice == 1 : \n",
    "        # Xử lý cả biên trên lẫn biên dưới\n",
    "        data.loc[data['Price'] >= 1969000,'Price'] = 1969000\n",
    "        data.loc[data['Total Review'] >= 734,'Total Review']= 734\n",
    "        data.loc[data['Discount Rate'] >=33,'Discount Rate']= 33\n",
    "        \n",
    "        data.loc[data['Price'] <= 10000,'Price'] = 10000\n",
    "        data.loc[data['Total Review'] <= 10,'Total Review']= 10\n",
    "        data.loc[data['Discount Rate'] <=5,'Discount Rate']= 5\n",
    "\n",
    "    elif choice == 2 :\n",
    "        # Xử lý biên cuối\n",
    "        data.loc[data['Price'] >= 1969000,'Price'] = 1969000\n",
    "        data.loc[data['Total Review'] >= 734,'Total Review']= 734\n",
    "        data.loc[data['Discount Rate'] >=33,'Discount Rate']= 33\n",
    "    elif choice == 3 : \n",
    "        # Xử lý biên đầu\n",
    "        data.loc[data['Price'] <= 10000,'Price'] = 10000\n",
    "        data.loc[data['Total Review'] <= 10,'Total Review']= 10\n",
    "        data.loc[data['Discount Rate'] <= 5,'Discount Rate']= 5\n",
    "    else : \n",
    "        return data\n",
    "    return data"
   ]
  },
  {
   "cell_type": "code",
   "execution_count": 25,
   "id": "5dd7cefa-c809-4cc9-8cf7-634707ec17cc",
   "metadata": {},
   "outputs": [],
   "source": [
    "data = SolvingOutliers(data,1) "
   ]
  },
  {
   "cell_type": "markdown",
   "id": "7633886f-cfd9-4a48-9bbd-ca98e0294f9b",
   "metadata": {},
   "source": [
    "## Trực quan hóa dữ liệu SAU khi xử lý ngoại lệ"
   ]
  },
  {
   "cell_type": "code",
   "execution_count": 26,
   "id": "f641dcb5-829f-4fac-82a7-492669f2d4da",
   "metadata": {},
   "outputs": [
    {
     "data": {
      "text/plain": [
       "Text(0, 0.5, 'No of product')"
      ]
     },
     "execution_count": 26,
     "metadata": {},
     "output_type": "execute_result"
    },
    {
     "data": {
      "image/png": "[encoded data removed]",
      "text/plain": [
       "<Figure size 432x288 with 1 Axes>"
      ]
     },
     "metadata": {
      "needs_background": "light"
     },
     "output_type": "display_data"
    }
   ],
   "source": [
    "figure=data['Price'].hist(bins=50)\n",
    "figure.set_title('Price')\n",
    "figure.set_xlabel('Price')\n",
    "figure.set_ylabel('No of product')"
   ]
  },
  {
   "cell_type": "code",
   "execution_count": 27,
   "id": "9352e5aa-ba3c-4961-bb22-236ad4928c42",
   "metadata": {},
   "outputs": [
    {
     "data": {
      "text/plain": [
       "Text(0, 0.5, 'No of product')"
      ]
     },
     "execution_count": 27,
     "metadata": {},
     "output_type": "execute_result"
    },
    {
     "data": {
      "image/png": "[encoded data removed]",
      "text/plain": [
       "<Figure size 432x288 with 1 Axes>"
      ]
     },
     "metadata": {
      "needs_background": "light"
     },
     "output_type": "display_data"
    }
   ],
   "source": [
    "figure=data['Total Review'].hist(bins=50)\n",
    "figure.set_title('Total Review')\n",
    "figure.set_xlabel('Total Review')\n",
    "figure.set_ylabel('No of product')"
   ]
  },
  {
   "cell_type": "code",
   "execution_count": 28,
   "id": "5fc23abf-2491-46a4-8b11-598b8bc2f257",
   "metadata": {},
   "outputs": [
    {
     "data": {
      "text/plain": [
       "Text(0, 0.5, 'No of product')"
      ]
     },
     "execution_count": 28,
     "metadata": {},
     "output_type": "execute_result"
    },
    {
     "data": {
      "image/png": "[encoded data removed]",
      "text/plain": [
       "<Figure size 432x288 with 1 Axes>"
      ]
     },
     "metadata": {
      "needs_background": "light"
     },
     "output_type": "display_data"
    }
   ],
   "source": [
    "figure=data['Discount Rate'].hist(bins=50)\n",
    "figure.set_title('Discount Rate')\n",
    "figure.set_xlabel('Discount Rate')\n",
    "figure.set_ylabel('No of product')"
   ]
  },
  {
   "cell_type": "code",
   "execution_count": 29,
   "id": "a650b058-73dc-4c6f-9ae4-7d115851d823",
   "metadata": {},
   "outputs": [
    {
     "data": {
      "text/plain": [
       "<AxesSubplot:>"
      ]
     },
     "execution_count": 29,
     "metadata": {},
     "output_type": "execute_result"
    },
    {
     "data": {
      "image/png": "[encoded data removed]",
      "text/plain": [
       "<Figure size 432x288 with 1 Axes>"
      ]
     },
     "metadata": {
      "needs_background": "light"
     },
     "output_type": "display_data"
    }
   ],
   "source": [
    "data.boxplot(column=\"Price\")"
   ]
  },
  {
   "cell_type": "code",
   "execution_count": 30,
   "id": "a90b6bc0-224c-4b4a-9c8f-ca1b48c77176",
   "metadata": {},
   "outputs": [
    {
     "data": {
      "text/plain": [
       "<AxesSubplot:>"
      ]
     },
     "execution_count": 30,
     "metadata": {},
     "output_type": "execute_result"
    },
    {
     "data": {
      "image/png": "[encoded data removed]",
      "text/plain": [
       "<Figure size 432x288 with 1 Axes>"
      ]
     },
     "metadata": {
      "needs_background": "light"
     },
     "output_type": "display_data"
    }
   ],
   "source": [
    "data.boxplot(column=\"Discount Rate\")"
   ]
  },
  {
   "cell_type": "code",
   "execution_count": 31,
   "id": "d02e97ff-18e2-457f-9176-7f1dc015c59e",
   "metadata": {},
   "outputs": [
    {
     "data": {
      "text/plain": [
       "<AxesSubplot:>"
      ]
     },
     "execution_count": 31,
     "metadata": {},
     "output_type": "execute_result"
    },
    {
     "data": {
      "image/png": "[encoded data removed]",
      "text/plain": [
       "<Figure size 432x288 with 1 Axes>"
      ]
     },
     "metadata": {
      "needs_background": "light"
     },
     "output_type": "display_data"
    }
   ],
   "source": [
    "data.boxplot(column = 'Rating Average')"
   ]
  },
  {
   "cell_type": "markdown",
   "id": "52c0f38a-d85d-460d-a041-e9420ae3464e",
   "metadata": {},
   "source": [
    "## Làm sạch dữ liệu"
   ]
  },
  {
   "cell_type": "code",
   "execution_count": 32,
   "id": "e89b7d1b-1377-4b8b-85dd-49f5e949828f",
   "metadata": {},
   "outputs": [],
   "source": [
    "def ChangeRawData(data, choice = 1) :\n",
    "    '''\n",
    "    Hàm xử lý dữ liệu \n",
    "    '''\n",
    "    if choice == 0 : \n",
    "        last_data = data.loc[data['Rating Average'] >= 3]\n",
    "        \n",
    "    elif choice == 1 : \n",
    "        last_data = data.loc[data['Rating Average'] >= 3]\n",
    "        last_data.loc[last_data['Rating Average'] < 4 ,'Rating Average']=3\n",
    "        last_data.loc[ (last_data['Rating Average'] >= 4)\n",
    "                      & (last_data['Rating Average'] < 4.8 ),'Rating Average']=4   \n",
    "        last_data.loc[last_data['Rating Average'] >= 4.8 ,'Rating Average']=5\n",
    "        \n",
    "    elif choice == 2 : \n",
    "        last_data = data.loc[data['Rating Average'] >= 3]\n",
    "        last_data.loc[last_data['Rating Average'] < 3.4  ,'Rating Average']=3\n",
    "        last_data.loc[ (last_data['Rating Average'] >= 3.4)\n",
    "                      & (last_data['Rating Average'] < 3.8 ),'Rating Average']=3.5\n",
    "        last_data.loc[ (last_data['Rating Average'] >= 3.8)\n",
    "                      & (last_data['Rating Average'] < 4.4 ),'Rating Average']=4\n",
    "        last_data.loc[ (last_data['Rating Average'] >= 4.4)\n",
    "                      & (last_data['Rating Average'] < 4.8 ),'Rating Average']=4.5\n",
    "        last_data.loc[last_data['Rating Average'] >= 4.8 ,'Rating Average'] = 5\n",
    "\n",
    "    last_data['Price_log']=np.log1p(last_data['Price'])\n",
    "    last_data['Review_log']=np.log1p(last_data['Total Review'])\n",
    "    last_data['New-Rate'] = last_data['Rating Average'].apply(lambda x: x * 10 )\n",
    "    \n",
    "    last_data = last_data.reset_index() \n",
    "    # reset index để tránh lỗi sklearn error ValueError: Input contains NaN, infinity or a value too large for dtype('float64')\n",
    "    return last_data"
   ]
  },
  {
   "cell_type": "code",
   "execution_count": 33,
   "id": "supported-profile",
   "metadata": {
    "scrolled": true
   },
   "outputs": [],
   "source": [
    "#pd.pivot_table(last_data, index = ['Category','Rating Average'], values = 'Price') "
   ]
  },
  {
   "cell_type": "code",
   "execution_count": 34,
   "id": "amber-lightweight",
   "metadata": {},
   "outputs": [
    {
     "data": {
      "text/plain": [
       "4.0    895\n",
       "5.0    564\n",
       "3.0     66\n",
       "Name: Rating Average, dtype: int64"
      ]
     },
     "execution_count": 34,
     "metadata": {},
     "output_type": "execute_result"
    }
   ],
   "source": [
    "last_data = ChangeRawData(data,1)\n",
    "last_data['Rating Average'].value_counts()"
   ]
  },
  {
   "cell_type": "code",
   "execution_count": 35,
   "id": "b8c8d8a1-d12b-4f81-a1f8-d15dfc8f79e8",
   "metadata": {},
   "outputs": [
    {
     "data": {
      "text/plain": [
       "4.5    743\n",
       "5.0    564\n",
       "4.0    182\n",
       "3.5     24\n",
       "3.0     12\n",
       "Name: Rating Average, dtype: int64"
      ]
     },
     "execution_count": 35,
     "metadata": {},
     "output_type": "execute_result"
    }
   ],
   "source": [
    "last_data = ChangeRawData(data,2)\n",
    "last_data['Rating Average'].value_counts()"
   ]
  },
  {
   "cell_type": "markdown",
   "id": "theoretical-population",
   "metadata": {},
   "source": [
    "# MÔ HÌNH HÓA DỮ LIỆU"
   ]
  },
  {
   "cell_type": "markdown",
   "id": "engaged-salmon",
   "metadata": {},
   "source": [
    "## MÔ HÌNH HỒI QUY TUYẾN TÍNH"
   ]
  },
  {
   "cell_type": "code",
   "execution_count": 36,
   "id": "597f917f-5553-4da5-93ec-8bce84f158f4",
   "metadata": {},
   "outputs": [],
   "source": [
    "import scipy.stats as stat\n",
    "\n",
    "def plot_data(df,feature):\n",
    "    '''\n",
    "    Hàm vẽ kiểm tra xem đối tượng xem xét có phân bố chuẩn hay không ?\n",
    "    '''\n",
    "    plt.figure(figsize=(10,6))\n",
    "    plt.subplot(1,2,1)\n",
    "    df[feature].hist() # histogram\n",
    "    plt.subplot(1,2,2)\n",
    "    stat.probplot(df[feature],dist='norm',plot=plt)# prob plot\n",
    "    plt.show()"
   ]
  },
  {
   "cell_type": "code",
   "execution_count": 37,
   "id": "2be6c43c-ae5b-43f5-bd45-1045d1df03f4",
   "metadata": {},
   "outputs": [],
   "source": [
    "last_data = ChangeRawData(data,1)"
   ]
  },
  {
   "cell_type": "code",
   "execution_count": 38,
   "id": "6239cc07-3a49-4506-91b0-80eb4b371cd0",
   "metadata": {},
   "outputs": [
    {
     "data": {
      "image/png": "[encoded data removed]",
      "text/plain": [
       "<Figure size 720x432 with 2 Axes>"
      ]
     },
     "metadata": {
      "needs_background": "light"
     },
     "output_type": "display_data"
    },
    {
     "data": {
      "image/png": "[encoded data removed]",
      "text/plain": [
       "<Figure size 720x432 with 2 Axes>"
      ]
     },
     "metadata": {
      "needs_background": "light"
     },
     "output_type": "display_data"
    },
    {
     "data": {
      "image/png": "[encoded data removed]",
      "text/plain": [
       "<Figure size 720x432 with 2 Axes>"
      ]
     },
     "metadata": {
      "needs_background": "light"
     },
     "output_type": "display_data"
    }
   ],
   "source": [
    "plot_data(last_data,'Price')\n",
    "plot_data(last_data,'Discount Rate') \n",
    "plot_data(last_data,'Total Review')"
   ]
  },
  {
   "cell_type": "markdown",
   "id": "84b86e8d-c068-4893-b311-f1e1e9dac205",
   "metadata": {},
   "source": [
    "### Nhận xét : \n",
    "Thông qua đồ thị được vẽ ở trên thì ta thấy : \n",
    "\n",
    "Price không phân bố chuẩn do đó không thể áp dụng chuẩn hóa Z-Score hoặc chuẩn hóa Min-Max. Áp dụng phương pháp logarit để biến đổi.\n",
    "\n",
    "Discount Rate phân bố chuẩn\n",
    "\n",
    "Total Review không phân bố chuẩn\n",
    "\n",
    "Sau khi biết được các giá trị trên có phân bố chuẩn hay không thì tiếp tục áp dụng chuẩn hóa dữ liệu"
   ]
  },
  {
   "cell_type": "code",
   "execution_count": 39,
   "id": "4ef760f3-519c-40c4-b663-3f805e98cb5a",
   "metadata": {},
   "outputs": [
    {
     "data": {
      "image/png": "[encoded data removed]",
      "text/plain": [
       "<Figure size 720x432 with 2 Axes>"
      ]
     },
     "metadata": {
      "needs_background": "light"
     },
     "output_type": "display_data"
    },
    {
     "data": {
      "image/png": "[encoded data removed]",
      "text/plain": [
       "<Figure size 720x432 with 2 Axes>"
      ]
     },
     "metadata": {
      "needs_background": "light"
     },
     "output_type": "display_data"
    }
   ],
   "source": [
    "last_data['Price_log']=np.log1p(last_data['Price'])\n",
    "last_data['Review_log']=np.log1p(last_data['Total Review'])\n",
    "plot_data(last_data,'Price_log')\n",
    "plot_data(last_data,'Review_log')"
   ]
  },
  {
   "cell_type": "markdown",
   "id": "409ab244-0941-44cd-bbeb-283581956054",
   "metadata": {},
   "source": [
    "## Các hàm xử lý "
   ]
  },
  {
   "cell_type": "code",
   "execution_count": 40,
   "id": "80280db5-772f-49f9-9041-7b44eca6fb3d",
   "metadata": {},
   "outputs": [],
   "source": [
    "def Predict_Score(new_data):\n",
    "    '''\n",
    "    Hàm dự đoán sau khi train/test.\n",
    "    Giá trị trả về của hàm là giá trị trung bình và giá trị max của train/test\n",
    "    '''\n",
    "    list_accuracy_score = []\n",
    "    for i in range (30):\n",
    "        X_train,X_test,y_train,y_test=train_test_split(last_data[['Price_log','Discount Rate','Review_log','Type-Category']],\n",
    "                                                       new_data['New-Rate'], \n",
    "                                                       test_size=0.3, random_state=i)\n",
    "        classifier=LogisticRegression(max_iter = 10000)\n",
    "        classifier.fit(X_train,y_train)\n",
    "        y_pred=classifier.predict(X_test)\n",
    "        list_accuracy_score.append(accuracy_score(y_test,y_pred))\n",
    "    return np.mean(list_accuracy_score), max(list_accuracy_score)"
   ]
  },
  {
   "cell_type": "code",
   "execution_count": 41,
   "id": "de7eff6d-14d4-4495-8aa3-d5abbb13cb63",
   "metadata": {},
   "outputs": [],
   "source": [
    "from sklearn.model_selection import train_test_split\n",
    "from sklearn.linear_model import LogisticRegression\n",
    "from sklearn.metrics import accuracy_score\n",
    "from sklearn.preprocessing import StandardScaler, MinMaxScaler\n",
    "from sklearn.preprocessing import RobustScaler"
   ]
  },
  {
   "cell_type": "code",
   "execution_count": 42,
   "id": "5d645740-71ce-42cf-9637-6ed41fedcf40",
   "metadata": {},
   "outputs": [],
   "source": [
    "data = df.copy()"
   ]
  },
  {
   "cell_type": "markdown",
   "id": "5adb825f-1de6-4eff-97b3-03a5029d859a",
   "metadata": {},
   "source": [
    "## Chuẩn hóa Z-Score"
   ]
  },
  {
   "cell_type": "code",
   "execution_count": 43,
   "id": "c11dbc41-c10f-4857-a08f-e9b3c6e5133a",
   "metadata": {},
   "outputs": [],
   "source": [
    "last_data = ChangeRawData(data)"
   ]
  },
  {
   "cell_type": "code",
   "execution_count": 44,
   "id": "8da3215a-7bfc-4b15-8ed4-61ed26c21f7d",
   "metadata": {},
   "outputs": [],
   "source": [
    "scaler = StandardScaler()\n",
    "last_data_scaled = scaler.fit_transform(last_data[['Price_log','Discount Rate','Review_log']])\n",
    "\n",
    "last_data['Price_log'] = last_data_scaled[:,0]  # dữ liệu của Price_logs\n",
    "last_data['Discount Rate'] = last_data_scaled[:,1]\n",
    "last_data['Review_log'] = last_data_scaled[:,2]"
   ]
  },
  {
   "cell_type": "code",
   "execution_count": 45,
   "id": "139765d2-b04a-4714-804d-6f38b0b47514",
   "metadata": {},
   "outputs": [
    {
     "data": {
      "text/plain": [
       "(0.6051673944687045, 0.648471615720524)"
      ]
     },
     "execution_count": 45,
     "metadata": {},
     "output_type": "execute_result"
    }
   ],
   "source": [
    "Predict_Score(last_data)"
   ]
  },
  {
   "cell_type": "markdown",
   "id": "26aa2d87-50e6-45ae-8134-02f0f97c3ce4",
   "metadata": {},
   "source": [
    "## Chuẩn hóa Min-Max"
   ]
  },
  {
   "cell_type": "code",
   "execution_count": 46,
   "id": "63c0645b-c889-4bcb-aa14-6dfc515ccdf7",
   "metadata": {},
   "outputs": [],
   "source": [
    "last_data = ChangeRawData(data)"
   ]
  },
  {
   "cell_type": "code",
   "execution_count": 47,
   "id": "d7a0cbe3-bf59-409c-b51a-bcd55bde6087",
   "metadata": {},
   "outputs": [],
   "source": [
    "min_max=MinMaxScaler()\n",
    "columns_get = ['Price_log','Discount Rate','Review_log']\n",
    "last_data_minmax=pd.DataFrame(min_max.fit_transform(last_data[['Price_log','Discount Rate','Review_log']]),columns=columns_get)\n",
    "\n",
    "last_data['Price_log'] = last_data_minmax['Price_log']\n",
    "last_data['Discount Rate'] = last_data_minmax['Discount Rate']\n",
    "last_data['Review_log'] = last_data_minmax['Review_log']"
   ]
  },
  {
   "cell_type": "code",
   "execution_count": 48,
   "id": "acting-virgin",
   "metadata": {},
   "outputs": [
    {
     "data": {
      "text/plain": [
       "(0.604585152838428, 0.6506550218340611)"
      ]
     },
     "execution_count": 48,
     "metadata": {},
     "output_type": "execute_result"
    }
   ],
   "source": [
    "Predict_Score(last_data)"
   ]
  },
  {
   "cell_type": "markdown",
   "id": "bdc630bc-03c2-4de3-86c0-6fcad99d4ecc",
   "metadata": {},
   "source": [
    "## Chuẩn hóa mạnh với Ngoại Lệ"
   ]
  },
  {
   "cell_type": "code",
   "execution_count": 49,
   "id": "eeb369a1-9a6c-4d09-9dd4-e434c05d8c1d",
   "metadata": {},
   "outputs": [],
   "source": [
    "data = SolvingOutliers(data)  # không xử lý ngoại lệ để áp dụng chuẩn hóa \n",
    "last_data = ChangeRawData(data)"
   ]
  },
  {
   "cell_type": "code",
   "execution_count": 50,
   "id": "2f64fda2-2766-4c97-8e1e-c41941210ec2",
   "metadata": {},
   "outputs": [],
   "source": [
    "r_scaler=RobustScaler()\n",
    "last_data_robust_scaler=pd.DataFrame(r_scaler.fit_transform(last_data[['Price_log','Discount Rate','Review_log']]),columns=columns_get)\n",
    "\n",
    "last_data['Price_log'] = last_data_robust_scaler['Price_log']\n",
    "last_data['Discount Rate'] = last_data_robust_scaler['Discount Rate']\n",
    "last_data['Review_log'] = last_data_robust_scaler['Review_log']"
   ]
  },
  {
   "cell_type": "code",
   "execution_count": null,
   "id": "c8d46ff8-ecf5-4bb5-930e-00cca7a94ce0",
   "metadata": {},
   "outputs": [],
   "source": [
    "Predict_Score(last_data)"
   ]
  },
  {
   "cell_type": "markdown",
   "id": "8b23b813-d8dd-4160-8d1f-287ffad784b1",
   "metadata": {},
   "source": [
    "### Nhận xét : \n"
   ]
  },
  {
   "cell_type": "markdown",
   "id": "ab6bd8cc-ae45-4968-a359-8d6c4609a94c",
   "metadata": {},
   "source": [
    "## Mô hình SVM ( Support Vector Machine ) "
   ]
  },
  {
   "cell_type": "code",
   "execution_count": null,
   "id": "568017fc-863d-4e2b-8e86-3be62474d4bc",
   "metadata": {},
   "outputs": [],
   "source": [
    "from sklearn import svm\n",
    "from sklearn import metrics\n",
    "from sklearn.metrics import classification_report,confusion_matrix\n",
    "\n",
    "data = df.copy()\n",
    "data = SolvingOutliers(data)\n",
    "last_data = ChangeRawData(data, choice = 1)"
   ]
  },
  {
   "cell_type": "markdown",
   "id": "ddcc1485-07db-42db-baac-1b20c2123c15",
   "metadata": {},
   "source": [
    "## Chuẩn hóa Z-Score"
   ]
  },
  {
   "cell_type": "code",
   "execution_count": null,
   "id": "106eb47f-5339-4fee-be1f-1854a0c449ba",
   "metadata": {},
   "outputs": [],
   "source": [
    "scaler = StandardScaler()\n",
    "last_data_scaled = scaler.fit_transform(last_data[['Price_log','Discount Rate','Review_log']])\n",
    "\n",
    "last_data['Price_log'] = last_data_scaled[:,0]  # dữ liệu của Price_logs\n",
    "last_data['Discount Rate'] = last_data_scaled[:,1]\n",
    "last_data['Review_log'] = last_data_scaled[:,2]"
   ]
  },
  {
   "cell_type": "code",
   "execution_count": null,
   "id": "49e776cd-58d8-43d5-86da-7dfce3b63a83",
   "metadata": {},
   "outputs": [],
   "source": [
    "X_train,X_test,y_train,y_test=train_test_split(last_data[['Price_log','Discount Rate','Review_log','Type-Category']],\n",
    "                                               last_data['New-Rate'],\n",
    "                                               test_size=0.3, random_state=5) # create train/test data here\n",
    "svc_model = svm.SVC() #Create a svm Classifier\n",
    "svc_model.fit(X_train, y_train) #Train the model using the training sets"
   ]
  },
  {
   "cell_type": "code",
   "execution_count": null,
   "id": "50c8dc4d-785d-4fdb-ab8a-7f4ce4422145",
   "metadata": {},
   "outputs": [],
   "source": [
    "y_pred = svc_model.predict(X_test) #Predict the response for test dataset\n",
    "predictions = svc_model.predict(X_test)"
   ]
  },
  {
   "cell_type": "code",
   "execution_count": null,
   "id": "11215ca7-162e-43d3-9796-54de98358043",
   "metadata": {},
   "outputs": [],
   "source": [
    "print(\"Accuracy:\",metrics.accuracy_score(y_test, y_pred))"
   ]
  },
  {
   "cell_type": "code",
   "execution_count": null,
   "id": "2c1d9ec6-7266-4023-8954-516d5c14b732",
   "metadata": {},
   "outputs": [],
   "source": [
    "set(y_test) - set(y_pred)"
   ]
  },
  {
   "cell_type": "code",
   "execution_count": null,
   "id": "04cda1f5-d3b2-4bd4-a407-6f41f7c319d6",
   "metadata": {},
   "outputs": [],
   "source": [
    "print(classification_report(y_test,predictions))"
   ]
  },
  {
   "cell_type": "code",
   "execution_count": null,
   "id": "9368e741-6b42-4213-bd8c-93d7205ab2e3",
   "metadata": {},
   "outputs": [],
   "source": [
    "print(classification_report(y_test,predictions,labels=np.unique(y_pred)))"
   ]
  },
  {
   "cell_type": "code",
   "execution_count": null,
   "id": "5fef60f2-e055-407a-a97b-d90259abddb7",
   "metadata": {},
   "outputs": [],
   "source": []
  }
 ],
 "metadata": {
  "kernelspec": {
   "display_name": "Python 3",
   "language": "python",
   "name": "python3"
  },
  "language_info": {
   "codemirror_mode": {
    "name": "ipython",
    "version": 3
   },
   "file_extension": ".py",
   "mimetype": "text/x-python",
   "name": "python",
   "nbconvert_exporter": "python",
   "pygments_lexer": "ipython3",
   "version": "3.9.1"
  }
 },
 "nbformat": 4,
 "nbformat_minor": 5
}
