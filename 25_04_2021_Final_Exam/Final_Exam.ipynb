{
 "cells": [
  {
   "cell_type": "markdown",
   "id": "solid-clearance",
   "metadata": {},
   "source": [
    "# THU THẬP DỮ LIỆU"
   ]
  },
  {
   "cell_type": "code",
   "execution_count": 1,
   "id": "further-omega",
   "metadata": {},
   "outputs": [
    {
     "ename": "KeyboardInterrupt",
     "evalue": "",
     "output_type": "error",
     "traceback": [
      "\u001b[1;31m---------------------------------------------------------------------------\u001b[0m",
      "\u001b[1;31mKeyboardInterrupt\u001b[0m                         Traceback (most recent call last)",
      "\u001b[1;32m<ipython-input-1-29dbfddbc1ff>\u001b[0m in \u001b[0;36m<module>\u001b[1;34m\u001b[0m\n\u001b[0;32m      4\u001b[0m \u001b[1;32mimport\u001b[0m \u001b[0mseaborn\u001b[0m \u001b[1;32mas\u001b[0m \u001b[0msns\u001b[0m\u001b[1;33m\u001b[0m\u001b[1;33m\u001b[0m\u001b[0m\n\u001b[0;32m      5\u001b[0m \u001b[1;33m\u001b[0m\u001b[0m\n\u001b[1;32m----> 6\u001b[1;33m \u001b[1;32mfrom\u001b[0m \u001b[0msklearn\u001b[0m\u001b[1;33m.\u001b[0m\u001b[0mmodel_selection\u001b[0m \u001b[1;32mimport\u001b[0m \u001b[0mtrain_test_split\u001b[0m\u001b[1;33m\u001b[0m\u001b[1;33m\u001b[0m\u001b[0m\n\u001b[0m\u001b[0;32m      7\u001b[0m \u001b[1;32mfrom\u001b[0m \u001b[0msklearn\u001b[0m\u001b[1;33m.\u001b[0m\u001b[0mlinear_model\u001b[0m \u001b[1;32mimport\u001b[0m \u001b[0mLogisticRegression\u001b[0m\u001b[1;33m\u001b[0m\u001b[1;33m\u001b[0m\u001b[0m\n\u001b[0;32m      8\u001b[0m \u001b[1;32mfrom\u001b[0m \u001b[0msklearn\u001b[0m\u001b[1;33m.\u001b[0m\u001b[0mmetrics\u001b[0m \u001b[1;32mimport\u001b[0m \u001b[0maccuracy_score\u001b[0m\u001b[1;33m\u001b[0m\u001b[1;33m\u001b[0m\u001b[0m\n",
      "\u001b[1;32mc:\\users\\phanthetue\\appdata\\local\\programs\\python\\python39\\lib\\site-packages\\sklearn\\__init__.py\u001b[0m in \u001b[0;36m<module>\u001b[1;34m\u001b[0m\n\u001b[0;32m     80\u001b[0m     \u001b[1;32mfrom\u001b[0m \u001b[1;33m.\u001b[0m \u001b[1;32mimport\u001b[0m \u001b[0m_distributor_init\u001b[0m  \u001b[1;31m# noqa: F401\u001b[0m\u001b[1;33m\u001b[0m\u001b[1;33m\u001b[0m\u001b[0m\n\u001b[0;32m     81\u001b[0m     \u001b[1;32mfrom\u001b[0m \u001b[1;33m.\u001b[0m \u001b[1;32mimport\u001b[0m \u001b[0m__check_build\u001b[0m  \u001b[1;31m# noqa: F401\u001b[0m\u001b[1;33m\u001b[0m\u001b[1;33m\u001b[0m\u001b[0m\n\u001b[1;32m---> 82\u001b[1;33m     \u001b[1;32mfrom\u001b[0m \u001b[1;33m.\u001b[0m\u001b[0mbase\u001b[0m \u001b[1;32mimport\u001b[0m \u001b[0mclone\u001b[0m\u001b[1;33m\u001b[0m\u001b[1;33m\u001b[0m\u001b[0m\n\u001b[0m\u001b[0;32m     83\u001b[0m     \u001b[1;32mfrom\u001b[0m \u001b[1;33m.\u001b[0m\u001b[0mutils\u001b[0m\u001b[1;33m.\u001b[0m\u001b[0m_show_versions\u001b[0m \u001b[1;32mimport\u001b[0m \u001b[0mshow_versions\u001b[0m\u001b[1;33m\u001b[0m\u001b[1;33m\u001b[0m\u001b[0m\n\u001b[0;32m     84\u001b[0m \u001b[1;33m\u001b[0m\u001b[0m\n",
      "\u001b[1;32mc:\\users\\phanthetue\\appdata\\local\\programs\\python\\python39\\lib\\site-packages\\sklearn\\base.py\u001b[0m in \u001b[0;36m<module>\u001b[1;34m\u001b[0m\n\u001b[0;32m     15\u001b[0m \u001b[1;32mfrom\u001b[0m \u001b[1;33m.\u001b[0m \u001b[1;32mimport\u001b[0m \u001b[0m__version__\u001b[0m\u001b[1;33m\u001b[0m\u001b[1;33m\u001b[0m\u001b[0m\n\u001b[0;32m     16\u001b[0m \u001b[1;32mfrom\u001b[0m \u001b[1;33m.\u001b[0m\u001b[0m_config\u001b[0m \u001b[1;32mimport\u001b[0m \u001b[0mget_config\u001b[0m\u001b[1;33m\u001b[0m\u001b[1;33m\u001b[0m\u001b[0m\n\u001b[1;32m---> 17\u001b[1;33m \u001b[1;32mfrom\u001b[0m \u001b[1;33m.\u001b[0m\u001b[0mutils\u001b[0m \u001b[1;32mimport\u001b[0m \u001b[0m_IS_32BIT\u001b[0m\u001b[1;33m\u001b[0m\u001b[1;33m\u001b[0m\u001b[0m\n\u001b[0m\u001b[0;32m     18\u001b[0m from .utils._tags import (\n\u001b[0;32m     19\u001b[0m     \u001b[0m_DEFAULT_TAGS\u001b[0m\u001b[1;33m,\u001b[0m\u001b[1;33m\u001b[0m\u001b[1;33m\u001b[0m\u001b[0m\n",
      "\u001b[1;32mc:\\users\\phanthetue\\appdata\\local\\programs\\python\\python39\\lib\\site-packages\\sklearn\\utils\\__init__.py\u001b[0m in \u001b[0;36m<module>\u001b[1;34m\u001b[0m\n\u001b[0;32m     21\u001b[0m \u001b[1;33m\u001b[0m\u001b[0m\n\u001b[0;32m     22\u001b[0m \u001b[1;32mfrom\u001b[0m \u001b[1;33m.\u001b[0m\u001b[0mmurmurhash\u001b[0m \u001b[1;32mimport\u001b[0m \u001b[0mmurmurhash3_32\u001b[0m\u001b[1;33m\u001b[0m\u001b[1;33m\u001b[0m\u001b[0m\n\u001b[1;32m---> 23\u001b[1;33m \u001b[1;32mfrom\u001b[0m \u001b[1;33m.\u001b[0m\u001b[0mclass_weight\u001b[0m \u001b[1;32mimport\u001b[0m \u001b[0mcompute_class_weight\u001b[0m\u001b[1;33m,\u001b[0m \u001b[0mcompute_sample_weight\u001b[0m\u001b[1;33m\u001b[0m\u001b[1;33m\u001b[0m\u001b[0m\n\u001b[0m\u001b[0;32m     24\u001b[0m \u001b[1;32mfrom\u001b[0m \u001b[1;33m.\u001b[0m \u001b[1;32mimport\u001b[0m \u001b[0m_joblib\u001b[0m\u001b[1;33m\u001b[0m\u001b[1;33m\u001b[0m\u001b[0m\n\u001b[0;32m     25\u001b[0m \u001b[1;32mfrom\u001b[0m \u001b[1;33m.\u001b[0m\u001b[1;33m.\u001b[0m\u001b[0mexceptions\u001b[0m \u001b[1;32mimport\u001b[0m \u001b[0mDataConversionWarning\u001b[0m\u001b[1;33m\u001b[0m\u001b[1;33m\u001b[0m\u001b[0m\n",
      "\u001b[1;32mc:\\users\\phanthetue\\appdata\\local\\programs\\python\\python39\\lib\\site-packages\\sklearn\\utils\\class_weight.py\u001b[0m in \u001b[0;36m<module>\u001b[1;34m\u001b[0m\n\u001b[0;32m      5\u001b[0m \u001b[1;32mimport\u001b[0m \u001b[0mnumpy\u001b[0m \u001b[1;32mas\u001b[0m \u001b[0mnp\u001b[0m\u001b[1;33m\u001b[0m\u001b[1;33m\u001b[0m\u001b[0m\n\u001b[0;32m      6\u001b[0m \u001b[1;33m\u001b[0m\u001b[0m\n\u001b[1;32m----> 7\u001b[1;33m \u001b[1;32mfrom\u001b[0m \u001b[1;33m.\u001b[0m\u001b[0mvalidation\u001b[0m \u001b[1;32mimport\u001b[0m \u001b[0m_deprecate_positional_args\u001b[0m\u001b[1;33m\u001b[0m\u001b[1;33m\u001b[0m\u001b[0m\n\u001b[0m\u001b[0;32m      8\u001b[0m \u001b[1;33m\u001b[0m\u001b[0m\n\u001b[0;32m      9\u001b[0m \u001b[1;33m\u001b[0m\u001b[0m\n",
      "\u001b[1;32mc:\\users\\phanthetue\\appdata\\local\\programs\\python\\python39\\lib\\site-packages\\sklearn\\utils\\validation.py\u001b[0m in \u001b[0;36m<module>\u001b[1;34m\u001b[0m\n\u001b[0;32m     20\u001b[0m \u001b[1;31m# mypy error: Module 'numpy.core.numeric' has no attribute 'ComplexWarning'\u001b[0m\u001b[1;33m\u001b[0m\u001b[1;33m\u001b[0m\u001b[1;33m\u001b[0m\u001b[0m\n\u001b[0;32m     21\u001b[0m \u001b[1;32mfrom\u001b[0m \u001b[0mnumpy\u001b[0m\u001b[1;33m.\u001b[0m\u001b[0mcore\u001b[0m\u001b[1;33m.\u001b[0m\u001b[0mnumeric\u001b[0m \u001b[1;32mimport\u001b[0m \u001b[0mComplexWarning\u001b[0m  \u001b[1;31m# type: ignore\u001b[0m\u001b[1;33m\u001b[0m\u001b[1;33m\u001b[0m\u001b[0m\n\u001b[1;32m---> 22\u001b[1;33m \u001b[1;32mimport\u001b[0m \u001b[0mjoblib\u001b[0m\u001b[1;33m\u001b[0m\u001b[1;33m\u001b[0m\u001b[0m\n\u001b[0m\u001b[0;32m     23\u001b[0m \u001b[1;33m\u001b[0m\u001b[0m\n\u001b[0;32m     24\u001b[0m \u001b[1;32mfrom\u001b[0m \u001b[0mcontextlib\u001b[0m \u001b[1;32mimport\u001b[0m \u001b[0msuppress\u001b[0m\u001b[1;33m\u001b[0m\u001b[1;33m\u001b[0m\u001b[0m\n",
      "\u001b[1;32mc:\\users\\phanthetue\\appdata\\local\\programs\\python\\python39\\lib\\site-packages\\joblib\\__init__.py\u001b[0m in \u001b[0;36m<module>\u001b[1;34m\u001b[0m\n\u001b[0;32m    111\u001b[0m \u001b[1;33m\u001b[0m\u001b[0m\n\u001b[0;32m    112\u001b[0m \u001b[1;32mimport\u001b[0m \u001b[0mos\u001b[0m\u001b[1;33m\u001b[0m\u001b[1;33m\u001b[0m\u001b[0m\n\u001b[1;32m--> 113\u001b[1;33m \u001b[1;32mfrom\u001b[0m \u001b[1;33m.\u001b[0m\u001b[0mmemory\u001b[0m \u001b[1;32mimport\u001b[0m \u001b[0mMemory\u001b[0m\u001b[1;33m,\u001b[0m \u001b[0mMemorizedResult\u001b[0m\u001b[1;33m,\u001b[0m \u001b[0mregister_store_backend\u001b[0m\u001b[1;33m\u001b[0m\u001b[1;33m\u001b[0m\u001b[0m\n\u001b[0m\u001b[0;32m    114\u001b[0m \u001b[1;32mfrom\u001b[0m \u001b[1;33m.\u001b[0m\u001b[0mlogger\u001b[0m \u001b[1;32mimport\u001b[0m \u001b[0mPrintTime\u001b[0m\u001b[1;33m\u001b[0m\u001b[1;33m\u001b[0m\u001b[0m\n\u001b[0;32m    115\u001b[0m \u001b[1;32mfrom\u001b[0m \u001b[1;33m.\u001b[0m\u001b[0mlogger\u001b[0m \u001b[1;32mimport\u001b[0m \u001b[0mLogger\u001b[0m\u001b[1;33m\u001b[0m\u001b[1;33m\u001b[0m\u001b[0m\n",
      "\u001b[1;32mc:\\users\\phanthetue\\appdata\\local\\programs\\python\\python39\\lib\\site-packages\\joblib\\memory.py\u001b[0m in \u001b[0;36m<module>\u001b[1;34m\u001b[0m\n\u001b[0;32m     27\u001b[0m \u001b[1;31m# Local imports\u001b[0m\u001b[1;33m\u001b[0m\u001b[1;33m\u001b[0m\u001b[1;33m\u001b[0m\u001b[0m\n\u001b[0;32m     28\u001b[0m \u001b[1;32mfrom\u001b[0m \u001b[1;33m.\u001b[0m \u001b[1;32mimport\u001b[0m \u001b[0mhashing\u001b[0m\u001b[1;33m\u001b[0m\u001b[1;33m\u001b[0m\u001b[0m\n\u001b[1;32m---> 29\u001b[1;33m \u001b[1;32mfrom\u001b[0m \u001b[1;33m.\u001b[0m\u001b[0mfunc_inspect\u001b[0m \u001b[1;32mimport\u001b[0m \u001b[0mget_func_code\u001b[0m\u001b[1;33m,\u001b[0m \u001b[0mget_func_name\u001b[0m\u001b[1;33m,\u001b[0m \u001b[0mfilter_args\u001b[0m\u001b[1;33m\u001b[0m\u001b[1;33m\u001b[0m\u001b[0m\n\u001b[0m\u001b[0;32m     30\u001b[0m \u001b[1;32mfrom\u001b[0m \u001b[1;33m.\u001b[0m\u001b[0mfunc_inspect\u001b[0m \u001b[1;32mimport\u001b[0m \u001b[0mformat_call\u001b[0m\u001b[1;33m\u001b[0m\u001b[1;33m\u001b[0m\u001b[0m\n\u001b[0;32m     31\u001b[0m \u001b[1;32mfrom\u001b[0m \u001b[1;33m.\u001b[0m\u001b[0mfunc_inspect\u001b[0m \u001b[1;32mimport\u001b[0m \u001b[0mformat_signature\u001b[0m\u001b[1;33m\u001b[0m\u001b[1;33m\u001b[0m\u001b[0m\n",
      "\u001b[1;32mc:\\users\\phanthetue\\appdata\\local\\programs\\python\\python39\\lib\\site-packages\\joblib\\func_inspect.py\u001b[0m in \u001b[0;36m<module>\u001b[1;34m\u001b[0m\n\u001b[0;32m     16\u001b[0m \u001b[1;32mfrom\u001b[0m \u001b[0mtokenize\u001b[0m \u001b[1;32mimport\u001b[0m \u001b[0mopen\u001b[0m \u001b[1;32mas\u001b[0m \u001b[0mopen_py_source\u001b[0m\u001b[1;33m\u001b[0m\u001b[1;33m\u001b[0m\u001b[0m\n\u001b[0;32m     17\u001b[0m \u001b[1;33m\u001b[0m\u001b[0m\n\u001b[1;32m---> 18\u001b[1;33m \u001b[1;32mfrom\u001b[0m \u001b[1;33m.\u001b[0m\u001b[0mlogger\u001b[0m \u001b[1;32mimport\u001b[0m \u001b[0mpformat\u001b[0m\u001b[1;33m\u001b[0m\u001b[1;33m\u001b[0m\u001b[0m\n\u001b[0m\u001b[0;32m     19\u001b[0m \u001b[1;33m\u001b[0m\u001b[0m\n\u001b[0;32m     20\u001b[0m full_argspec_fields = ('args varargs varkw defaults kwonlyargs '\n",
      "\u001b[1;32mc:\\users\\phanthetue\\appdata\\local\\programs\\python\\python39\\lib\\site-packages\\joblib\\logger.py\u001b[0m in \u001b[0;36m<module>\u001b[1;34m\u001b[0m\n\u001b[0;32m     18\u001b[0m \u001b[1;32mimport\u001b[0m \u001b[0mpprint\u001b[0m\u001b[1;33m\u001b[0m\u001b[1;33m\u001b[0m\u001b[0m\n\u001b[0;32m     19\u001b[0m \u001b[1;33m\u001b[0m\u001b[0m\n\u001b[1;32m---> 20\u001b[1;33m \u001b[1;32mfrom\u001b[0m \u001b[1;33m.\u001b[0m\u001b[0mdisk\u001b[0m \u001b[1;32mimport\u001b[0m \u001b[0mmkdirp\u001b[0m\u001b[1;33m\u001b[0m\u001b[1;33m\u001b[0m\u001b[0m\n\u001b[0m\u001b[0;32m     21\u001b[0m \u001b[1;33m\u001b[0m\u001b[0m\n\u001b[0;32m     22\u001b[0m \u001b[1;33m\u001b[0m\u001b[0m\n",
      "\u001b[1;32mc:\\users\\phanthetue\\appdata\\local\\programs\\python\\python39\\lib\\site-packages\\joblib\\disk.py\u001b[0m in \u001b[0;36m<module>\u001b[1;34m\u001b[0m\n\u001b[0;32m     15\u001b[0m \u001b[1;32mimport\u001b[0m \u001b[0mshutil\u001b[0m\u001b[1;33m\u001b[0m\u001b[1;33m\u001b[0m\u001b[0m\n\u001b[0;32m     16\u001b[0m \u001b[1;33m\u001b[0m\u001b[0m\n\u001b[1;32m---> 17\u001b[1;33m \u001b[1;32mfrom\u001b[0m \u001b[0mmultiprocessing\u001b[0m \u001b[1;32mimport\u001b[0m \u001b[0mutil\u001b[0m\u001b[1;33m\u001b[0m\u001b[1;33m\u001b[0m\u001b[0m\n\u001b[0m\u001b[0;32m     18\u001b[0m \u001b[1;33m\u001b[0m\u001b[0m\n\u001b[0;32m     19\u001b[0m \u001b[1;33m\u001b[0m\u001b[0m\n",
      "\u001b[1;32mc:\\users\\phanthetue\\appdata\\local\\programs\\python\\python39\\lib\\multiprocessing\\__init__.py\u001b[0m in \u001b[0;36m<module>\u001b[1;34m\u001b[0m\n\u001b[0;32m     14\u001b[0m \u001b[1;33m\u001b[0m\u001b[0m\n\u001b[0;32m     15\u001b[0m \u001b[1;32mimport\u001b[0m \u001b[0msys\u001b[0m\u001b[1;33m\u001b[0m\u001b[1;33m\u001b[0m\u001b[0m\n\u001b[1;32m---> 16\u001b[1;33m \u001b[1;32mfrom\u001b[0m \u001b[1;33m.\u001b[0m \u001b[1;32mimport\u001b[0m \u001b[0mcontext\u001b[0m\u001b[1;33m\u001b[0m\u001b[1;33m\u001b[0m\u001b[0m\n\u001b[0m\u001b[0;32m     17\u001b[0m \u001b[1;33m\u001b[0m\u001b[0m\n\u001b[0;32m     18\u001b[0m \u001b[1;31m#\u001b[0m\u001b[1;33m\u001b[0m\u001b[1;33m\u001b[0m\u001b[1;33m\u001b[0m\u001b[0m\n",
      "\u001b[1;32mc:\\users\\phanthetue\\appdata\\local\\programs\\python\\python39\\lib\\importlib\\_bootstrap.py\u001b[0m in \u001b[0;36m_find_and_load\u001b[1;34m(name, import_)\u001b[0m\n",
      "\u001b[1;32mc:\\users\\phanthetue\\appdata\\local\\programs\\python\\python39\\lib\\importlib\\_bootstrap.py\u001b[0m in \u001b[0;36m_find_and_load_unlocked\u001b[1;34m(name, import_)\u001b[0m\n",
      "\u001b[1;32mc:\\users\\phanthetue\\appdata\\local\\programs\\python\\python39\\lib\\importlib\\_bootstrap.py\u001b[0m in \u001b[0;36m_load_unlocked\u001b[1;34m(spec)\u001b[0m\n",
      "\u001b[1;32mc:\\users\\phanthetue\\appdata\\local\\programs\\python\\python39\\lib\\importlib\\_bootstrap_external.py\u001b[0m in \u001b[0;36mexec_module\u001b[1;34m(self, module)\u001b[0m\n",
      "\u001b[1;32mc:\\users\\phanthetue\\appdata\\local\\programs\\python\\python39\\lib\\importlib\\_bootstrap_external.py\u001b[0m in \u001b[0;36mget_code\u001b[1;34m(self, fullname)\u001b[0m\n",
      "\u001b[1;32mc:\\users\\phanthetue\\appdata\\local\\programs\\python\\python39\\lib\\importlib\\_bootstrap_external.py\u001b[0m in \u001b[0;36mget_data\u001b[1;34m(self, path)\u001b[0m\n",
      "\u001b[1;31mKeyboardInterrupt\u001b[0m: "
     ]
    }
   ],
   "source": [
    "import pandas as pd\n",
    "import numpy as np\n",
    "import matplotlib.pyplot as plt\n",
    "import seaborn as sns\n",
    "\n",
    "from sklearn.model_selection import train_test_split\n",
    "from sklearn.linear_model import LogisticRegression\n",
    "from sklearn.metrics import accuracy_score\n",
    "from sklearn.preprocessing import LabelEncoder, MinMaxScaler\n",
    "\n",
    "df=pd.read_csv('full_tiki.csv')\n",
    "df['index'] = range(0, len(df))\n",
    "df.set_index(['index'])\n",
    "df.head()"
   ]
  },
  {
   "cell_type": "code",
   "execution_count": null,
   "id": "elder-sequence",
   "metadata": {},
   "outputs": [],
   "source": [
    "len(df)"
   ]
  },
  {
   "cell_type": "code",
   "execution_count": null,
   "id": "likely-monitor",
   "metadata": {},
   "outputs": [],
   "source": [
    "df.columns"
   ]
  },
  {
   "cell_type": "code",
   "execution_count": null,
   "id": "talented-seeker",
   "metadata": {},
   "outputs": [],
   "source": [
    "LE = LabelEncoder()\n",
    "df['Type-Category'] = LE.fit_transform(df['Category'])"
   ]
  },
  {
   "cell_type": "code",
   "execution_count": null,
   "id": "final-appreciation",
   "metadata": {},
   "outputs": [],
   "source": [
    "df['Price'].isnull().sum() "
   ]
  },
  {
   "cell_type": "markdown",
   "id": "copyrighted-moisture",
   "metadata": {},
   "source": [
    "# TRÍCH XUẤT ĐẶC TRƯNG"
   ]
  },
  {
   "cell_type": "markdown",
   "id": "protecting-hampshire",
   "metadata": {},
   "source": [
    "## TRỰC QUAN HÓA DỮ LIỆU"
   ]
  },
  {
   "cell_type": "code",
   "execution_count": null,
   "id": "decreased-washington",
   "metadata": {},
   "outputs": [],
   "source": [
    "df['Category'].value_counts()"
   ]
  },
  {
   "cell_type": "markdown",
   "id": "senior-nirvana",
   "metadata": {},
   "source": [
    "Có 9 loại sản phẩm được ưa chuộng "
   ]
  },
  {
   "cell_type": "code",
   "execution_count": null,
   "id": "perceived-giving",
   "metadata": {},
   "outputs": [],
   "source": [
    "plt.figure(figsize=(15,10))\n",
    "sns.countplot(x='Category', data=df, order = df['Category'].value_counts().index )\n",
    "plt.xticks(rotation=45)"
   ]
  },
  {
   "cell_type": "code",
   "execution_count": null,
   "id": "assured-gambling",
   "metadata": {},
   "outputs": [],
   "source": [
    "max(df['Price'])"
   ]
  },
  {
   "cell_type": "code",
   "execution_count": null,
   "id": "accessory-entrance",
   "metadata": {},
   "outputs": [],
   "source": [
    "min(df['Price'])"
   ]
  },
  {
   "cell_type": "code",
   "execution_count": null,
   "id": "contained-stanford",
   "metadata": {},
   "outputs": [],
   "source": [
    "data = df.copy()\n",
    "data_100nghin = data.loc[data['List-Price'] <= 100000]\n",
    "data_100nghin['Category'].value_counts().plot(kind = 'barh')"
   ]
  },
  {
   "cell_type": "code",
   "execution_count": null,
   "id": "alien-payment",
   "metadata": {},
   "outputs": [],
   "source": [
    "data_500nghin = data.loc[ (100000 < data['List-Price']) & ( data['List-Price'] <= 500000 )]\n",
    "data_500nghin['Category'].value_counts().plot(kind = 'barh')"
   ]
  },
  {
   "cell_type": "code",
   "execution_count": null,
   "id": "compressed-bristol",
   "metadata": {},
   "outputs": [],
   "source": [
    "data_1trieu = data.loc[ (500000 < data['List-Price']) & ( data['List-Price'] <= 1000000 )]\n",
    "data_1trieu['Category'].value_counts().plot(kind = 'barh')"
   ]
  },
  {
   "cell_type": "code",
   "execution_count": null,
   "id": "governmental-contemporary",
   "metadata": {},
   "outputs": [],
   "source": [
    "data_5trieu = data.loc[ (1000000 < data['List-Price']) & ( data['List-Price'] <= 5000000 )]\n",
    "data_5trieu['Category'].value_counts().plot(kind = 'barh')"
   ]
  },
  {
   "cell_type": "code",
   "execution_count": null,
   "id": "collective-produce",
   "metadata": {},
   "outputs": [],
   "source": [
    "data_10trieu = data.loc[ (5000000 < data['List-Price']) & ( data['List-Price'] <= 10000000 )]\n",
    "data_10trieu['Category'].value_counts().plot(kind = 'barh')"
   ]
  },
  {
   "cell_type": "code",
   "execution_count": null,
   "id": "extraordinary-lexington",
   "metadata": {},
   "outputs": [],
   "source": [
    "data_L10trieu = data.loc[ (10000000 < data['List-Price'])]\n",
    "data_L10trieu['Category'].value_counts().plot(kind = 'barh')"
   ]
  },
  {
   "cell_type": "code",
   "execution_count": null,
   "id": "alpine-mission",
   "metadata": {},
   "outputs": [],
   "source": [
    "df['Rating Average'].hist()"
   ]
  },
  {
   "cell_type": "code",
   "execution_count": null,
   "id": "exclusive-internship",
   "metadata": {},
   "outputs": [],
   "source": [
    "df['Price'].hist()"
   ]
  },
  {
   "cell_type": "code",
   "execution_count": null,
   "id": "continuing-nothing",
   "metadata": {},
   "outputs": [],
   "source": [
    "df.boxplot(column = ['Rating Average','Price', 'Discount Rate'])"
   ]
  },
  {
   "cell_type": "code",
   "execution_count": null,
   "id": "organic-russian",
   "metadata": {},
   "outputs": [],
   "source": [
    "df.boxplot(column = 'Rating Average')"
   ]
  },
  {
   "cell_type": "code",
   "execution_count": null,
   "id": "automotive-asian",
   "metadata": {},
   "outputs": [],
   "source": [
    "df.boxplot(column = 'Price')"
   ]
  },
  {
   "cell_type": "code",
   "execution_count": null,
   "id": "objective-germany",
   "metadata": {},
   "outputs": [],
   "source": [
    "df[['Rating Average','Price', 'Discount Rate']].corr"
   ]
  },
  {
   "cell_type": "code",
   "execution_count": null,
   "id": "employed-elements",
   "metadata": {},
   "outputs": [],
   "source": [
    "cmap = sns.diverging_palette(220, 10, as_cmap=True)\n",
    "sns.heatmap(df[['Rating Average','Price','Discount Rate']].corr(),vmax=.5, center=0, cmap=cmap,\n",
    "            square=True, linewidths=.5, cbar_kws={\"shrink\": .5})"
   ]
  },
  {
   "cell_type": "code",
   "execution_count": null,
   "id": "exciting-qatar",
   "metadata": {},
   "outputs": [],
   "source": [
    "pd.pivot_table(df, index = 'Category', values = 'Price') # tính mức giá trung bình của từng loại sản phẩm "
   ]
  },
  {
   "cell_type": "code",
   "execution_count": null,
   "id": "representative-annotation",
   "metadata": {},
   "outputs": [],
   "source": [
    "pd.options.display.max_rows\n",
    "pd.set_option('display.max_rows', None) # cho phép hiển thị tất cả các dòng"
   ]
  },
  {
   "cell_type": "markdown",
   "id": "preceding-consortium",
   "metadata": {},
   "source": [
    "Outliers"
   ]
  },
  {
   "cell_type": "code",
   "execution_count": null,
   "id": "otherwise-flight",
   "metadata": {},
   "outputs": [],
   "source": [
    "data.loc[data['Price'] >= 1969000,'Price'] = 1969000\n",
    "data.loc[data['Total Review'] >= 734,'Total Review']= 734\n",
    "data.loc[data['Discount Rate'] >=33,'Discount Rate']= 33\n",
    "\n",
    "# data.loc[data['Price'] <= 10000,'Price'] = 10000\n",
    "# data.loc[data['Total Review'] <= 20,'Total Review']= 20\n",
    "# data.loc[data['Discount Rate'] <=5,'Discount Rate']= 5"
   ]
  },
  {
   "cell_type": "code",
   "execution_count": null,
   "id": "domestic-highway",
   "metadata": {},
   "outputs": [],
   "source": [
    "last_data = data.loc[data['Rating Average'] >= 3]"
   ]
  },
  {
   "cell_type": "code",
   "execution_count": null,
   "id": "supported-profile",
   "metadata": {
    "scrolled": true
   },
   "outputs": [],
   "source": [
    "pd.pivot_table(last_data, index = ['Category','Rating Average'], values = 'Price') "
   ]
  },
  {
   "cell_type": "code",
   "execution_count": null,
   "id": "amber-lightweight",
   "metadata": {},
   "outputs": [],
   "source": [
    "pd.options.mode.chained_assignment = None  # default='warn'\n",
    "last_data.loc[last_data['Rating Average'] < 4 ,'Rating Average']=3\n",
    "last_data.loc[ (last_data['Rating Average'] >= 4)\n",
    "              & (last_data['Rating Average'] < 4.8 ),'Rating Average']=4   \n",
    "# last_data.loc[ (last_data['Rating Average'] >= 4.4)\n",
    "#               & (last_data['Rating Average'] < 4.8 ),'Rating Average']=4.5\n",
    "last_data.loc[last_data['Rating Average'] >= 4.8 ,'Rating Average']=5"
   ]
  },
  {
   "cell_type": "code",
   "execution_count": null,
   "id": "previous-owner",
   "metadata": {},
   "outputs": [],
   "source": [
    "last_data['Rating Average'].value_counts()"
   ]
  },
  {
   "cell_type": "markdown",
   "id": "theoretical-population",
   "metadata": {},
   "source": [
    "# MÔ HÌNH HÓA DỮ LIỆU"
   ]
  },
  {
   "cell_type": "markdown",
   "id": "promotional-tournament",
   "metadata": {},
   "source": [
    "## CHỌN MÔ HÌNH"
   ]
  },
  {
   "cell_type": "markdown",
   "id": "engaged-salmon",
   "metadata": {},
   "source": [
    "### HỒI QUY TUYẾN TÍNH"
   ]
  },
  {
   "cell_type": "code",
   "execution_count": null,
   "id": "musical-stereo",
   "metadata": {},
   "outputs": [],
   "source": [
    "last_data['New-Rate'] = last_data['Rating Average'].apply(lambda x: x * 10 )\n",
    "# mô hình hồi quy tuyến tính yêu cầu trả về số nguyên"
   ]
  },
  {
   "cell_type": "code",
   "execution_count": null,
   "id": "undefined-flower",
   "metadata": {},
   "outputs": [],
   "source": [
    "from sklearn.model_selection import train_test_split\n",
    "X_train,X_test,y_train,y_test=train_test_split(last_data[['Price','Discount Rate','Total Review','Type-Category']],\n",
    "                                               last_data['New-Rate'],\n",
    "                                               test_size=0.3, random_state=5) # train here"
   ]
  },
  {
   "cell_type": "code",
   "execution_count": null,
   "id": "thorough-employee",
   "metadata": {},
   "outputs": [],
   "source": [
    "### Logistic Regression\n",
    "from sklearn.linear_model import LogisticRegression\n",
    "from sklearn.metrics import accuracy_score\n",
    "\n",
    "classifier=LogisticRegression(max_iter=1000)\n",
    "classifier.fit(X_train,y_train)\n",
    "y_pred=classifier.predict(X_test)\n",
    "\n",
    "print(\"Accuracy_score: {}\".format(accuracy_score(y_test,y_pred)))"
   ]
  },
  {
   "cell_type": "code",
   "execution_count": null,
   "id": "mysterious-jamaica",
   "metadata": {},
   "outputs": [],
   "source": [
    "def Predict_Score(new_data):\n",
    "    list_accuracy_score = []\n",
    "    for i in range (10):\n",
    "        X_train,X_test,y_train,y_test=train_test_split(new_data[['Price','Discount Rate','Total Review','Type-Category']], \n",
    "                                                       new_data['New-Rate'], \n",
    "                                                       test_size=0.3, random_state=i)\n",
    "        classifier=LogisticRegression()\n",
    "        classifier.fit(X_train,y_train)\n",
    "        y_pred=classifier.predict(X_test)\n",
    "        list_accuracy_score.append(accuracy_score(y_test,y_pred))\n",
    "    return np.mean(list_accuracy_score)"
   ]
  },
  {
   "cell_type": "code",
   "execution_count": null,
   "id": "acting-virgin",
   "metadata": {},
   "outputs": [],
   "source": [
    "Predict_Score(last_data)"
   ]
  },
  {
   "cell_type": "code",
   "execution_count": null,
   "id": "harmful-binding",
   "metadata": {
    "scrolled": true
   },
   "outputs": [],
   "source": [
    "new_data = data.loc[data['Rating Average'] < 3]"
   ]
  },
  {
   "cell_type": "code",
   "execution_count": null,
   "id": "threatened-colon",
   "metadata": {},
   "outputs": [],
   "source": [
    "predict_data = new_data[['Price','Discount Rate','Total Review','Type-Category']]\n",
    "predict_data.head()"
   ]
  },
  {
   "cell_type": "code",
   "execution_count": null,
   "id": "bronze-remains",
   "metadata": {},
   "outputs": [],
   "source": [
    "y_pred = classifier.predict(predict_data)"
   ]
  },
  {
   "cell_type": "code",
   "execution_count": null,
   "id": "special-strike",
   "metadata": {},
   "outputs": [],
   "source": [
    "y_pred / 10 "
   ]
  },
  {
   "cell_type": "code",
   "execution_count": null,
   "id": "568017fc-863d-4e2b-8e86-3be62474d4bc",
   "metadata": {},
   "outputs": [],
   "source": [
    "from sklearn import svm\n",
    "\n",
    "last_data = data.loc[data['Rating Average'] >= 3]\n",
    "last_data.loc[last_data['Rating Average'] < 3.4  ,'Rating Average']=3\n",
    "last_data.loc[ (last_data['Rating Average'] >= 3.4)\n",
    "              & (last_data['Rating Average'] < 3.8 ),'Rating Average']=3.5\n",
    "last_data.loc[ (last_data['Rating Average'] >= 3.8)\n",
    "              & (last_data['Rating Average'] < 4.4 ),'Rating Average']=4\n",
    "last_data.loc[ (last_data['Rating Average'] >= 4.4)\n",
    "              & (last_data['Rating Average'] < 4.8 ),'Rating Average']=4.5\n",
    "# last_data.loc[last_data['Rating Average'] >= 4.8 ,'Rating Average'] = 5\n",
    "last_data['New-Rate'] = last_data['Rating Average'].apply(lambda x: x * 10 )\n",
    "X_train,X_test,y_train,y_test=train_test_split(last_data[['Price','Discount Rate','Total Review','Type-Category']],\n",
    "                                               last_data['New-Rate'],\n",
    "                                               test_size=0.4, random_state=5) # train here\n",
    "#Create a svm Classifier\n",
    "clf = svm.SVC(kernel='linear') # Linear Kernel\n",
    "\n",
    "#Train the model using the training sets\n",
    "clf.fit(X_train, y_train)\n",
    "\n",
    "#Predict the response for test dataset\n",
    "y_pred = clf.predict(X_test)\n"
   ]
  },
  {
   "cell_type": "code",
   "execution_count": null,
   "id": "11215ca7-162e-43d3-9796-54de98358043",
   "metadata": {},
   "outputs": [],
   "source": [
    "from sklearn import metrics\n",
    "print(\"Accuracy:\",metrics.accuracy_score(y_test, y_pred))"
   ]
  },
  {
   "cell_type": "code",
   "execution_count": null,
   "id": "9368e741-6b42-4213-bd8c-93d7205ab2e3",
   "metadata": {},
   "outputs": [],
   "source": []
  }
 ],
 "metadata": {
  "kernelspec": {
   "display_name": "Python 3",
   "language": "python",
   "name": "python3"
  },
  "language_info": {
   "codemirror_mode": {
    "name": "ipython",
    "version": 3
   },
   "file_extension": ".py",
   "mimetype": "text/x-python",
   "name": "python",
   "nbconvert_exporter": "python",
   "pygments_lexer": "ipython3",
   "version": "3.9.1"
  }
 },
 "nbformat": 4,
 "nbformat_minor": 5
}
