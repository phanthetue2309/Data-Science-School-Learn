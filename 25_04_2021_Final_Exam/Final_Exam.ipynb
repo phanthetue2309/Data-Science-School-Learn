{
 "cells": [
  {
   "cell_type": "code",
   "execution_count": 1,
   "id": "continent-cornwall",
   "metadata": {},
   "outputs": [
    {
     "data": {
      "text/html": [
       "<div>\n",
       "<style scoped>\n",
       "    .dataframe tbody tr th:only-of-type {\n",
       "        vertical-align: middle;\n",
       "    }\n",
       "\n",
       "    .dataframe tbody tr th {\n",
       "        vertical-align: top;\n",
       "    }\n",
       "\n",
       "    .dataframe thead th {\n",
       "        text-align: right;\n",
       "    }\n",
       "</style>\n",
       "<table border=\"1\" class=\"dataframe\">\n",
       "  <thead>\n",
       "    <tr style=\"text-align: right;\">\n",
       "      <th></th>\n",
       "      <th>ID</th>\n",
       "      <th>Name Product</th>\n",
       "      <th>Price(VND)</th>\n",
       "      <th>Total Review</th>\n",
       "      <th>Discount(%)</th>\n",
       "    </tr>\n",
       "  </thead>\n",
       "  <tbody>\n",
       "    <tr>\n",
       "      <th>0</th>\n",
       "      <td>0</td>\n",
       "      <td>Máy Hút Bụi Mini Cầm Tay DEERMA DX128C</td>\n",
       "      <td>699000</td>\n",
       "      <td>166</td>\n",
       "      <td>58.0</td>\n",
       "    </tr>\n",
       "    <tr>\n",
       "      <th>1</th>\n",
       "      <td>1</td>\n",
       "      <td>Máy Lọc Không Khí Sharp FP-J30E-B - Hàng chí...</td>\n",
       "      <td>1799000</td>\n",
       "      <td>70</td>\n",
       "      <td>54.0</td>\n",
       "    </tr>\n",
       "    <tr>\n",
       "      <th>2</th>\n",
       "      <td>2</td>\n",
       "      <td>Combo 3 lõi lọc nước Karofi 1,2,3 chính hãng</td>\n",
       "      <td>120000</td>\n",
       "      <td>586</td>\n",
       "      <td>57.0</td>\n",
       "    </tr>\n",
       "    <tr>\n",
       "      <th>3</th>\n",
       "      <td>3</td>\n",
       "      <td>Bàn Ủi Khô Nagakawa NAG1502 - Màu Ghi - Hàng C...</td>\n",
       "      <td>200000</td>\n",
       "      <td>1</td>\n",
       "      <td>13.0</td>\n",
       "    </tr>\n",
       "    <tr>\n",
       "      <th>4</th>\n",
       "      <td>4</td>\n",
       "      <td>Máy Hút Bụi Cầm Tay Không Dây Damas XC628 - Ch...</td>\n",
       "      <td>379000</td>\n",
       "      <td>318</td>\n",
       "      <td>58.0</td>\n",
       "    </tr>\n",
       "  </tbody>\n",
       "</table>\n",
       "</div>"
      ],
      "text/plain": [
       "   ID                                       Name Product  Price(VND)  \\\n",
       "0   0             Máy Hút Bụi Mini Cầm Tay DEERMA DX128C      699000   \n",
       "1   1  Máy Lọc Không Khí Sharp FP-J30E-B - Hàng chí...     1799000   \n",
       "2   2       Combo 3 lõi lọc nước Karofi 1,2,3 chính hãng      120000   \n",
       "3   3  Bàn Ủi Khô Nagakawa NAG1502 - Màu Ghi - Hàng C...      200000   \n",
       "4   4  Máy Hút Bụi Cầm Tay Không Dây Damas XC628 - Ch...      379000   \n",
       "\n",
       "   Total Review  Discount(%)  \n",
       "0           166         58.0  \n",
       "1            70         54.0  \n",
       "2           586         57.0  \n",
       "3             1         13.0  \n",
       "4           318         58.0  "
      ]
     },
     "execution_count": 1,
     "metadata": {},
     "output_type": "execute_result"
    }
   ],
   "source": [
    "import pandas as pd\n",
    "import numpy as np\n",
    "from sklearn.model_selection import train_test_split\n",
    "import statistics\n",
    "from sklearn.linear_model import LogisticRegression\n",
    "from sklearn.metrics import accuracy_score\n",
    "import matplotlib.pyplot as plt\n",
    "\n",
    "df=pd.read_csv('tiki.csv')\n",
    "df.head()"
   ]
  },
  {
   "cell_type": "code",
   "execution_count": 2,
   "id": "logical-coupon",
   "metadata": {},
   "outputs": [
    {
     "data": {
      "text/plain": [
       "1"
      ]
     },
     "execution_count": 2,
     "metadata": {},
     "output_type": "execute_result"
    }
   ],
   "source": [
    "df['Discount(%)'].isnull().sum()  # đếm số giá trị thiếu trong cột"
   ]
  },
  {
   "cell_type": "code",
   "execution_count": 4,
   "id": "humanitarian-adrian",
   "metadata": {},
   "outputs": [
    {
     "data": {
      "text/plain": [
       "0"
      ]
     },
     "execution_count": 4,
     "metadata": {},
     "output_type": "execute_result"
    }
   ],
   "source": [
    "df['Price(VND)'].isnull().sum() "
   ]
  },
  {
   "cell_type": "code",
   "execution_count": null,
   "id": "proved-piano",
   "metadata": {},
   "outputs": [],
   "source": [
    "def Outliers(choice,old_data):\n",
    "    data=old_data.copy() # Tránh mất dữ liệu \n",
    "    if choice == 0: # Không xử lý ngoại lệ\n",
    "        data[['Price(VND)','Discount(%)']] \n",
    "    elif choice == 1: # Xử lý ngoại lệ \n",
    "        data.loc[data['Age'] > 73,'Age']=73\n",
    "        data.loc[data['Fare']> 100,'Fare']=100\n",
    "    new_data=data[['Age','Fare']] # dữ liệu trả về\n",
    "    return new_data"
   ]
  },
  {
   "cell_type": "code",
   "execution_count": null,
   "id": "incredible-accused",
   "metadata": {},
   "outputs": [],
   "source": [
    "def Draw(new_data, name) :\n",
    "    old_data = df.copy()\n",
    "    fig = plt.figure()\n",
    "    ax = fig.add_subplot(111)\n",
    "    old_data['Age'].plot(kind='kde', color='blue')\n",
    "    new_data['Age'].plot(kind='kde', color='red')\n",
    "    lines, labels = ax.get_legend_handles_labels()\n",
    "    ax.legend(lines, labels, loc='best')\n",
    "    plt.title(name + \" Age\")"
   ]
  },
  {
   "cell_type": "code",
   "execution_count": null,
   "id": "dated-surface",
   "metadata": {},
   "outputs": [],
   "source": [
    "def MissingValues(choice , data):\n",
    "    new_data = data.copy()  # Tránh mất dữ liệu \n",
    "    new_data2 = df.copy()\n",
    "    if choice==0: #Mean\n",
    "        mean=new_data['Age'].mean()\n",
    "        new_data['Age'].fillna(mean,inplace=True)\n",
    "        Draw(new_data,\"Mean\")       \n",
    "        \n",
    "    elif choice==1: #median\n",
    "        median=new_data['Age'].median()\n",
    "        new_data['Age'].fillna(median,inplace=True)        \n",
    "        Draw(new_data,\"Median\")\n",
    "       \n",
    "    elif choice==2: #mode\n",
    "        mode_imputation=statistics.mode(df['Age'])\n",
    "        new_data['Age'].fillna(mode_imputation,inplace=True)\n",
    "        Draw(new_data,\"Mode\")\n",
    "\n",
    "    elif choice==3: #Random\n",
    "        random_samples = new_data['Age'].dropna().sample(n = new_data['Age'].isnull().sum(),random_state=10)\n",
    "        random_samples.index = new_data2[new_data2['Age'].isnull()].index\n",
    "        new_data.loc[new_data['Age'].isnull(), 'Age'] = random_samples\n",
    "        Draw(new_data,\"Random\")\n",
    "\n",
    "    elif choice==4: #Tail\n",
    "        extreme = new_data.Age.mean() + 3*new_data.Age.std()  # trung bình + phân bố chuẩn \n",
    "        new_data['Age'].fillna(extreme,inplace=True)\n",
    "        Draw(new_data,\"Tail\")\n",
    "        \n",
    "    elif choice==5: # Random bat ki\n",
    "        \n",
    "        random=np.random.uniform(data.Age.min(), data.Age.max())\n",
    "        random=round(random, 1)    \n",
    "        print(random)\n",
    "        new_data['Age'].fillna(random,inplace=True)\n",
    "        Draw(new_data,\"Arbitrary\")\n",
    "        \n",
    "    elif choice==6: # New Features\n",
    "        new_data['Age_NAN']=np.where(df['Age'].isnull(),1,0)\n",
    "        new_data['Age'].fillna(df['Age'].median(),inplace=True)\n",
    "        Draw(new_data,\"New Features\")\n",
    "    plt.show()\n",
    "    return new_data"
   ]
  },
  {
   "cell_type": "code",
   "execution_count": null,
   "id": "chemical-reform",
   "metadata": {},
   "outputs": [],
   "source": [
    "def Predict_Score(new_data):\n",
    "    list_accuracy_score = []\n",
    "    for i in range (10):\n",
    "        X_train,X_test,y_train,y_test=train_test_split(new_data, df['Survived'], \n",
    "                                                       test_size=0.3, random_state=i)\n",
    "        classifier=LogisticRegression()\n",
    "        classifier.fit(X_train,y_train)\n",
    "        y_pred=classifier.predict(X_test)\n",
    "        list_accuracy_score.append(accuracy_score(y_test,y_pred))\n",
    "    return np.mean(list_accuracy_score)"
   ]
  },
  {
   "cell_type": "code",
   "execution_count": null,
   "id": "insured-death",
   "metadata": {},
   "outputs": [],
   "source": [
    "Table={'Type':['Mean','Median','Mode','Random Values','Tail Values','Arbitrary Values','New Features'],\n",
    "                      'Not Outliers':np.zeros((7,),dtype=float),\n",
    "                      'Outliers':np.zeros((7,),dtype=float)}\n",
    "\n",
    "Table=pd.DataFrame(Table)\n",
    "\n",
    "for i in range (7):\n",
    "    for j in range(2):\n",
    "        temp = Outliers(j,df.copy())\n",
    "        temp = MissingValues(i,temp)\n",
    "        Table.iloc[i,j+1] = Predict_Score(temp)"
   ]
  }
 ],
 "metadata": {
  "kernelspec": {
   "display_name": "Python 3",
   "language": "python",
   "name": "python3"
  },
  "language_info": {
   "codemirror_mode": {
    "name": "ipython",
    "version": 3
   },
   "file_extension": ".py",
   "mimetype": "text/x-python",
   "name": "python",
   "nbconvert_exporter": "python",
   "pygments_lexer": "ipython3",
   "version": "3.9.1"
  }
 },
 "nbformat": 4,
 "nbformat_minor": 5
}
