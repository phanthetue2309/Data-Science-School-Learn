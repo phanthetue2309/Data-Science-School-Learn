{
 "cells": [
  {
   "cell_type": "code",
   "execution_count": 1,
   "id": "concerned-portfolio",
   "metadata": {},
   "outputs": [
    {
     "data": {
      "text/html": [
       "<div>\n",
       "<style scoped>\n",
       "    .dataframe tbody tr th:only-of-type {\n",
       "        vertical-align: middle;\n",
       "    }\n",
       "\n",
       "    .dataframe tbody tr th {\n",
       "        vertical-align: top;\n",
       "    }\n",
       "\n",
       "    .dataframe thead th {\n",
       "        text-align: right;\n",
       "    }\n",
       "</style>\n",
       "<table border=\"1\" class=\"dataframe\">\n",
       "  <thead>\n",
       "    <tr style=\"text-align: right;\">\n",
       "      <th></th>\n",
       "      <th>ID</th>\n",
       "      <th>Name Product</th>\n",
       "      <th>Price (VND)</th>\n",
       "      <th>Review</th>\n",
       "      <th>Discount ( %)</th>\n",
       "    </tr>\n",
       "  </thead>\n",
       "  <tbody>\n",
       "    <tr>\n",
       "      <th>0</th>\n",
       "      <td>0</td>\n",
       "      <td>Máy Hút Bụi Mini Cầm Tay DEERMA DX128C</td>\n",
       "      <td>699000</td>\n",
       "      <td>166</td>\n",
       "      <td>58.0</td>\n",
       "    </tr>\n",
       "    <tr>\n",
       "      <th>1</th>\n",
       "      <td>1</td>\n",
       "      <td>Máy Lọc Không Khí Sharp FP-J30E-B - Hàng chí...</td>\n",
       "      <td>1799000</td>\n",
       "      <td>70</td>\n",
       "      <td>54.0</td>\n",
       "    </tr>\n",
       "    <tr>\n",
       "      <th>2</th>\n",
       "      <td>2</td>\n",
       "      <td>Combo 3 lõi lọc nước Karofi 1,2,3 chính hãng</td>\n",
       "      <td>120000</td>\n",
       "      <td>586</td>\n",
       "      <td>57.0</td>\n",
       "    </tr>\n",
       "    <tr>\n",
       "      <th>3</th>\n",
       "      <td>3</td>\n",
       "      <td>Bàn Ủi Khô Nagakawa NAG1502 - Màu Ghi - Hàng C...</td>\n",
       "      <td>200000</td>\n",
       "      <td>1</td>\n",
       "      <td>13.0</td>\n",
       "    </tr>\n",
       "    <tr>\n",
       "      <th>4</th>\n",
       "      <td>4</td>\n",
       "      <td>Máy Hút Bụi Cầm Tay Không Dây Damas XC628 - Ch...</td>\n",
       "      <td>379000</td>\n",
       "      <td>318</td>\n",
       "      <td>58.0</td>\n",
       "    </tr>\n",
       "  </tbody>\n",
       "</table>\n",
       "</div>"
      ],
      "text/plain": [
       "   ID                                       Name Product  Price (VND)   \\\n",
       "0   0             Máy Hút Bụi Mini Cầm Tay DEERMA DX128C        699000   \n",
       "1   1  Máy Lọc Không Khí Sharp FP-J30E-B - Hàng chí...       1799000   \n",
       "2   2       Combo 3 lõi lọc nước Karofi 1,2,3 chính hãng        120000   \n",
       "3   3  Bàn Ủi Khô Nagakawa NAG1502 - Màu Ghi - Hàng C...        200000   \n",
       "4   4  Máy Hút Bụi Cầm Tay Không Dây Damas XC628 - Ch...        379000   \n",
       "\n",
       "   Review  Discount ( %)  \n",
       "0     166           58.0  \n",
       "1      70           54.0  \n",
       "2     586           57.0  \n",
       "3       1           13.0  \n",
       "4     318           58.0  "
      ]
     },
     "execution_count": 1,
     "metadata": {},
     "output_type": "execute_result"
    }
   ],
   "source": [
    "import pandas as pd\n",
    "df=pd.read_csv('tiki.csv')\n",
    "df.head()"
   ]
  },
  {
   "cell_type": "code",
   "execution_count": null,
   "id": "floral-place",
   "metadata": {},
   "outputs": [],
   "source": []
  },
  {
   "cell_type": "code",
   "execution_count": null,
   "id": "thorough-addiction",
   "metadata": {},
   "outputs": [],
   "source": []
  }
 ],
 "metadata": {
  "kernelspec": {
   "display_name": "Python 3",
   "language": "python",
   "name": "python3"
  },
  "language_info": {
   "codemirror_mode": {
    "name": "ipython",
    "version": 3
   },
   "file_extension": ".py",
   "mimetype": "text/x-python",
   "name": "python",
   "nbconvert_exporter": "python",
   "pygments_lexer": "ipython3",
   "version": "3.9.1"
  }
 },
 "nbformat": 4,
 "nbformat_minor": 5
}
