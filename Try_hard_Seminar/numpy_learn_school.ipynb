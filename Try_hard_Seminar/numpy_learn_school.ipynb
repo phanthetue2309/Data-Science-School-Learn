{
 "cells": [
  {
   "cell_type": "code",
   "execution_count": 1,
   "id": "essential-bridge",
   "metadata": {},
   "outputs": [
    {
     "output_type": "stream",
     "name": "stdout",
     "text": [
      "['Tuan' 'Phuong' 'Khoi' 'Hieu' 'Duy' 'Thang' 'Duc']\n['Tuan' 'Thang' 'Duc']\n['Phuong' 'Khoi' 'Hieu']\n['Tuan' 'Thang' 'Duy']\n['Tuan' 'Thang' 'Hieu']\n"
     ]
    }
   ],
   "source": [
    "import numpy as np\n",
    "names = np.array(['Tuan', 'Phuong', 'Khoi', 'Hieu', 'Duy', 'Thang', 'Duc'])\n",
    "print(names)\n",
    "print(names[[0,5,6]]) # vị trí của mỗi phần tử trên mảng đã có \n",
    "print(names[[1,2,3]])\n",
    "print(names[[0,5,4]])\n",
    "print(names[[0,5,3]])\n"
   ]
  },
  {
   "source": [
    "import numpy as np\n",
    "data = np.random.randn(2, 3)\n",
    "print(\"data = \", data)\n",
    "print(\"data*2 = \",data * 2)\n",
    "print(\"data + data = \", data + data)"
   ],
   "cell_type": "code",
   "metadata": {},
   "execution_count": 2,
   "outputs": [
    {
     "output_type": "stream",
     "name": "stdout",
     "text": [
      "data =  [[-2.21329792  1.43729886 -0.16108904]\n [ 0.1200151   0.4042639  -0.17254624]]\ndata*2 =  [[-4.42659585  2.87459772 -0.32217808]\n [ 0.24003019  0.80852779 -0.34509248]]\ndata + data =  [[-4.42659585  2.87459772 -0.32217808]\n [ 0.24003019  0.80852779 -0.34509248]]\n"
     ]
    }
   ]
  },
  {
   "source": [
    "Khởi tạo mảng trong numpy"
   ],
   "cell_type": "markdown",
   "metadata": {}
  },
  {
   "cell_type": "code",
   "execution_count": 3,
   "metadata": {},
   "outputs": [
    {
     "output_type": "execute_result",
     "data": {
      "text/plain": [
       "array([6. , 7.5, 8. , 0. , 1. ])"
      ]
     },
     "metadata": {},
     "execution_count": 3
    }
   ],
   "source": [
    "import numpy as np\n",
    "data1 = [6, 7.5, 8, 0, 1]\n",
    "arr1 = np.array(data1)\n",
    "arr1"
   ]
  },
  {
   "cell_type": "code",
   "execution_count": 4,
   "metadata": {},
   "outputs": [
    {
     "output_type": "execute_result",
     "data": {
      "text/plain": [
       "1"
      ]
     },
     "metadata": {},
     "execution_count": 4
    }
   ],
   "source": [
    "arr1.ndim"
   ]
  },
  {
   "cell_type": "code",
   "execution_count": 5,
   "metadata": {},
   "outputs": [
    {
     "output_type": "execute_result",
     "data": {
      "text/plain": [
       "dtype('float64')"
      ]
     },
     "metadata": {},
     "execution_count": 5
    }
   ],
   "source": [
    "arr1.dtype"
   ]
  },
  {
   "cell_type": "code",
   "execution_count": 6,
   "metadata": {},
   "outputs": [
    {
     "output_type": "execute_result",
     "data": {
      "text/plain": [
       "array([[1, 2, 3, 4],\n",
       "       [5, 6, 7, 8]])"
      ]
     },
     "metadata": {},
     "execution_count": 6
    }
   ],
   "source": [
    "data2 = [[1, 2, 3, 4], [5, 6, 7, 8]]\n",
    "arr2 = np.array(data2)\n",
    "arr2"
   ]
  },
  {
   "cell_type": "code",
   "execution_count": 1,
   "metadata": {},
   "outputs": [
    {
     "output_type": "execute_result",
     "data": {
      "text/plain": [
       "array([[[0, 0, 0],\n",
       "        [0, 0, 0],\n",
       "        [0, 0, 0]],\n",
       "\n",
       "       [[0, 0, 0],\n",
       "        [0, 0, 0],\n",
       "        [0, 0, 0]]])"
      ]
     },
     "metadata": {},
     "execution_count": 1
    }
   ],
   "source": [
    "import numpy as np\n",
    "np.zeros(10)\n",
    "np.zeros((2, 4))\n",
    "np.empty((2, 3, 3)) # tạo 1 ma trận 2 x 3 x 3 : 2 mảng, mỗi hàng 3 hàng 3 cột \n",
    "np.empty((2, 3, 3), dtype=int) # tạo 1 ma trận 2 x 3 x 3 : 2 mảng, mỗi hàng 3 hàng 3 cột "
   ]
  },
  {
   "cell_type": "code",
   "execution_count": 2,
   "metadata": {},
   "outputs": [
    {
     "output_type": "execute_result",
     "data": {
      "text/plain": [
       "array([ 1.25, -9.6 , 42.  ])"
      ]
     },
     "metadata": {},
     "execution_count": 2
    }
   ],
   "source": [
    "import numpy as np\n",
    "numeric_strings = np.array(['1.25','-9.6', '42'], dtype=np.string_)\n",
    "numeric_strings.astype(float)\n"
   ]
  },
  {
   "source": [
    "Vector hóa "
   ],
   "cell_type": "markdown",
   "metadata": {}
  },
  {
   "cell_type": "code",
   "execution_count": 3,
   "metadata": {},
   "outputs": [
    {
     "output_type": "stream",
     "name": "stdout",
     "text": [
      "[[1. 2. 3.]\n [4. 5. 6.]]\n[[ 1.  4.  9.]\n [16. 25. 36.]]\n[[0. 0. 0.]\n [0. 0. 0.]]\n[[1.         0.5        0.33333333]\n [0.25       0.2        0.16666667]]\n[[1.         1.41421356 1.73205081]\n [2.         2.23606798 2.44948974]]\n[[ True False  True]\n [False  True False]]\n"
     ]
    }
   ],
   "source": [
    "import numpy as np\n",
    "arr = np.array([[1., 2., 3.], [4., 5., 6.]])\n",
    "print(arr)\n",
    "print(arr*arr)\n",
    "print(arr-arr)\n",
    "print(1/arr)\n",
    "print(arr**0.5)\n",
    "arr2 = np.array([[0., 4., 1.], [7., 2., 12.]])\n",
    "print(arr > arr2)"
   ]
  },
  {
   "cell_type": "code",
   "execution_count": 10,
   "metadata": {},
   "outputs": [
    {
     "output_type": "stream",
     "name": "stdout",
     "text": [
      "['Bob' 'Joe' 'Will' 'Bob' 'Will' 'Joe' 'Joe']\n[[ 0.72000171  0.20616778 -1.14007628  1.95515879]\n [-0.72122686  1.0158005  -0.00844679 -1.81114806]\n [ 0.45625339  0.21407022 -0.32846627  0.54705422]\n [-1.80971075  0.03281753  1.03087895  0.58978582]\n [-0.15725145  1.3484009  -0.9318453   1.64136585]\n [ 0.50936406 -0.40455966 -0.00297863  1.22552488]\n [-2.23751319  1.5207393  -1.06150648  1.93586083]]\n[ True False False  True False False False]\n[[ 0.72000171  0.20616778 -1.14007628  1.95515879]\n [-1.80971075  0.03281753  1.03087895  0.58978582]]\n[[-1.14007628  1.95515879]\n [ 1.03087895  0.58978582]]\n[1.95515879 0.58978582]\n[[0.72000171 0.20616778 0.         1.95515879]\n [0.         1.0158005  0.         0.        ]\n [0.45625339 0.21407022 0.         0.54705422]\n [0.         0.03281753 1.03087895 0.58978582]\n [0.         1.3484009  0.         1.64136585]\n [0.50936406 0.         0.         1.22552488]\n [0.         1.5207393  0.         1.93586083]]\n"
     ]
    }
   ],
   "source": [
    "import numpy as np\n",
    "names = np.array(['Bob', 'Joe', 'Will', 'Bob', 'Will','Joe', 'Joe'])\n",
    "data = np.random.randn(7, 4)\n",
    "print(names)\n",
    "print(data)\n",
    "print(names=='Bob') # return True False\n",
    "print(data[names=='Bob'])   # get data only same position with Bob\n",
    "\n",
    "# \n",
    "print(data[names == 'Bob', 2:])\n",
    "print(data[names == 'Bob', 3])\n",
    "\n",
    "# gán những thằng có value < 0 trở thành \n",
    "data[data < 0] = 0\n",
    "print(data)"
   ]
  },
  {
   "source": [
    "arr = np.arange(32).reshape((8, 4))\n",
    "print(\"array = \")\n",
    "print(arr)\n",
    "# 32 = 8 * 4 ==> have same dimension \n",
    "print(\"array = \")\n",
    "print(arr[[1, 5, 7, 2]])\n",
    "# hàng 1, 5, 7, 2\n",
    "print(\"array = \")\n",
    "print(arr[[1, 5, 7, 2], [0, 3, 1, 2]])\n",
    "# hàng ứng với cột và chỉ lấy duy nhất 1 hàng\n",
    "print(\"array = \")\n",
    "print(arr[[1, 5, 7, 2]][:, [0, 3, 1, 2]])\n",
    "# lấy toàn bộ ma trận"
   ],
   "cell_type": "code",
   "metadata": {},
   "execution_count": 11,
   "outputs": [
    {
     "output_type": "stream",
     "name": "stdout",
     "text": [
      "array = \n[[ 0  1  2  3]\n [ 4  5  6  7]\n [ 8  9 10 11]\n [12 13 14 15]\n [16 17 18 19]\n [20 21 22 23]\n [24 25 26 27]\n [28 29 30 31]]\narray = \n[[ 4  5  6  7]\n [20 21 22 23]\n [28 29 30 31]\n [ 8  9 10 11]]\narray = \n[ 4 23 29 10]\narray = \n[[ 4  7  5  6]\n [20 23 21 22]\n [28 31 29 30]\n [ 8 11  9 10]]\n"
     ]
    }
   ]
  },
  {
   "cell_type": "code",
   "execution_count": 12,
   "id": "discrete-frontier",
   "metadata": {},
   "outputs": [
    {
     "output_type": "stream",
     "name": "stdout",
     "text": [
      "[[ 0  1  2  3  4]\n [ 5  6  7  8  9]\n [10 11 12 13 14]]\n[[ 0  5 10]\n [ 1  6 11]\n [ 2  7 12]\n [ 3  8 13]\n [ 4  9 14]]\n"
     ]
    }
   ],
   "source": [
    "import numpy as np\n",
    "arr = np.arange(15).reshape((3, 5))\n",
    "print(arr)\n",
    "print(arr.T)"
   ]
  },
  {
   "cell_type": "code",
   "execution_count": 18,
   "id": "three-birthday",
   "metadata": {},
   "outputs": [
    {
     "output_type": "stream",
     "name": "stdout",
     "text": [
      "array before transpose : \n [[[ 0  1  2  3]\n  [ 4  5  6  7]]\n\n [[ 8  9 10 11]\n  [12 13 14 15]]\n\n [[16 17 18 19]\n  [20 21 22 23]]\n\n [[24 25 26 27]\n  [28 29 30 31]]]\narray after transpose : \n [[[ 0  1  2  3]\n  [ 8  9 10 11]\n  [16 17 18 19]\n  [24 25 26 27]]\n\n [[ 4  5  6  7]\n  [12 13 14 15]\n  [20 21 22 23]\n  [28 29 30 31]]]\n"
     ]
    }
   ],
   "source": [
    "import numpy as np\n",
    "arr = np.arange(16).reshape((2, 2, 4)) # 2 * 2 * 4 = 16\n",
    "arr = np.arange(32).reshape((4, 2, 4)) # 4 * 2 * 4 = 16 => 4 mảng mỗi màng gồm 2 hàng 4 cột\n",
    "print(\"array before transpose : \\n\",arr)\n",
    "print(\"array after transpose : \\n\",arr.transpose((1, 0, 2))) # tạo thành 2 mảng với mảng 1 gồm những phần tử ở dòng 0 của các array và dòng 2 là các phần tử ở dòng 1 của các array\n",
    "# transpose giống chuyển vị arr.T"
   ]
  },
  {
   "cell_type": "code",
   "execution_count": 19,
   "id": "dirty-match",
   "metadata": {},
   "outputs": [
    {
     "name": "stdout",
     "output_type": "stream",
     "text": [
      "[[[ 0  1  2  3]\n",
      "  [ 4  5  6  7]]\n",
      "\n",
      " [[ 8  9 10 11]\n",
      "  [12 13 14 15]]]\n",
      "[[[ 0  4]\n",
      "  [ 1  5]\n",
      "  [ 2  6]\n",
      "  [ 3  7]]\n",
      "\n",
      " [[ 8 12]\n",
      "  [ 9 13]\n",
      "  [10 14]\n",
      "  [11 15]]]\n"
     ]
    }
   ],
   "source": [
    "import numpy as np\n",
    "arr = np.arange(16).reshape((2, 2, 4))\n",
    "print(arr)\n",
    "print(arr.swapaxes(1, 2))"
   ]
  },
  {
   "cell_type": "code",
   "execution_count": 21,
   "id": "chronic-serial",
   "metadata": {},
   "outputs": [
    {
     "data": {
      "text/plain": [
       "<matplotlib.image.AxesImage at 0x2968fcb8fd0>"
      ]
     },
     "execution_count": 21,
     "metadata": {},
     "output_type": "execute_result"
    },
    {
     "data": {
      "image/png": "[encoded data removed]",
      "text/plain": [
       "<Figure size 432x288 with 1 Axes>"
      ]
     },
     "metadata": {
      "needs_background": "light"
     },
     "output_type": "display_data"
    }
   ],
   "source": [
    "import numpy as np\n",
    "import matplotlib.pyplot as plt\n",
    "points = np.arange(-5, 5, 0.01)\n",
    "xs, ys = np.meshgrid(points, points)\n",
    "z = np.sqrt(xs ** 2 + ys ** 2)\n",
    "plt.imshow(z, cmap=plt.cm.gray)"
   ]
  },
  {
   "cell_type": "code",
   "execution_count": 21,
   "id": "rental-musician",
   "metadata": {},
   "outputs": [
    {
     "output_type": "execute_result",
     "data": {
      "text/plain": [
       "'1.20.0'"
      ]
     },
     "metadata": {},
     "execution_count": 21
    }
   ],
   "source": [
    "import numpy\n",
    "numpy.version.version"
   ]
  },
  {
   "cell_type": "code",
   "execution_count": 19,
   "metadata": {},
   "outputs": [
    {
     "output_type": "stream",
     "name": "stdout",
     "text": [
      "['Bob' 'Joe' 'Will']\n[1 2 3 4]\n"
     ]
    }
   ],
   "source": [
    "# Hàm unique(): tạo tập sắp xếp tăng dần và duy nhất \n",
    "\n",
    "names = np.array(['Bob', 'Joe', 'Will', 'Bob', 'Will', 'Joe', 'Joe'])\n",
    "print(np.unique(names))\n",
    "ints = np.array([3, 3, 3, 2, 2, 1, 1, 4, 4])\n",
    "print(np.unique(ints))"
   ]
  },
  {
   "cell_type": "code",
   "execution_count": null,
   "metadata": {},
   "outputs": [],
   "source": []
  }
 ],
 "metadata": {
  "kernelspec": {
   "display_name": "Python 3",
   "language": "python",
   "name": "python3"
  },
  "language_info": {
   "codemirror_mode": {
    "name": "ipython",
    "version": 3
   },
   "file_extension": ".py",
   "mimetype": "text/x-python",
   "name": "python",
   "nbconvert_exporter": "python",
   "pygments_lexer": "ipython3",
   "version": "3.9.1-final"
  }
 },
 "nbformat": 4,
 "nbformat_minor": 5
}