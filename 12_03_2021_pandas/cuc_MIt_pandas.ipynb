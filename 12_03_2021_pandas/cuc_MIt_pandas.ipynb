{
 "cells": [
  {
   "cell_type": "code",
   "execution_count": 8,
   "id": "impressed-programmer",
   "metadata": {},
   "outputs": [
    {
     "name": "stdout",
     "output_type": "stream",
     "text": [
      "    STT         ID                    Name Date of Birth       Class\n",
      "0     1  102180153             Lưu Quốc An    2000-02-03  18TCLC_DT2\n",
      "1     2  102180154      Tôn Thất Quỳnh Anh    2000-10-12  18TCLC_DT2\n",
      "2     3  102180155    Nguyễn Thị Minh Châu    2000-10-17  18TCLC_DT2\n",
      "3     4  102180156     Trần Văn Thanh Công    2000-08-17  18TCLC_DT2\n",
      "4     5  102180157          Huỳnh Bá Cường    2000-10-22  18TCLC_DT2\n",
      "5     6  102180158           Trần Thế Dâng    2000-11-16  18TCLC_DT2\n",
      "6     7  102180159         Nguyễn Tiến Đạt    2000-12-06  18TCLC_DT2\n",
      "7     8  102180160           Phan Thị Diễm    2000-09-18  18TCLC_DT2\n",
      "8     9  102180161         Phan Khương Duy    2000-09-29  18TCLC_DT2\n",
      "9    10  102180162           Đỗ Trung Hiếu    2000-05-02  18TCLC_DT2\n",
      "10   11  102180163     Nguyễn Nguyên Hoàng    1999-03-06  18TCLC_DT2\n",
      "11   12  102180164          Đặng Quang Huy    2000-09-30  18TCLC_DT2\n",
      "12   13  102180165         Nguyễn Hồng Huy    2000-04-10  18TCLC_DT2\n",
      "13   14  102180166    Nguyễn Văn Quang Huy    2000-11-27  18TCLC_DT2\n",
      "14   15  102180167            Trần Văn Huy    2000-10-26  18TCLC_DT2\n",
      "15   16  102180168            Đỗ Oanh Khải    2000-10-08  18TCLC_DT2\n",
      "16   17  102180169         Đỗ Văn Anh Khoa    2000-04-01  18TCLC_DT2\n",
      "17   18  102180170        Phạm Mai Văn Lai    2000-08-21  18TCLC_DT2\n",
      "18   19  102180171        Châu Trường Long    2000-08-02  18TCLC_DT2\n",
      "19   20  102180172          Lương Thế Long    2000-08-20  18TCLC_DT2\n",
      "20   21  102180173           Trần Chí Minh    2000-05-26  18TCLC_DT2\n",
      "21   22  102180174           Đặng Bảo Ngân    2000-04-09  18TCLC_DT2\n",
      "22   23  102180175       Nguyễn Xuân Nghĩa    2000-06-01  18TCLC_DT2\n",
      "23   24  102180176           Bùi An Nguyên    2000-11-16  18TCLC_DT2\n",
      "24   25  102180177              Đỗ Lý Nhân    2000-05-01  18TCLC_DT2\n",
      "25   26  102180178           Phan Minh Phú    2000-10-30  18TCLC_DT2\n",
      "26   27  102180179      Nguyễn Xuân Phương    2000-06-01  18TCLC_DT2\n",
      "27   28  102180180       Nguyễn Phước Quốc    2000-02-13  18TCLC_DT2\n",
      "28   29  102180181          Huỳnh Tấn Sinh    2000-02-19  18TCLC_DT2\n",
      "29   30  102180182  Nguyễn Đặng Trường Sơn    2000-01-10  18TCLC_DT2\n",
      "30   31  102180183          Nguyễn Đức Tài    2000-09-06  18TCLC_DT2\n",
      "31   32  102180185            Lê Đức Thiết    2000-12-05  18TCLC_DT2\n",
      "32   33  102180186          Lê Quang Thông    2000-10-20  18TCLC_DT2\n",
      "33   34  102180187   Huỳnh Trần Khánh Toàn    2000-01-19  18TCLC_DT2\n",
      "34   35  102180188             Võ Minh Trí    1997-01-03  18TCLC_DT2\n",
      "35   36  102180189           Lê Tiến Trung    2000-03-22  18TCLC_DT2\n",
      "36   37  102180190             Phan Anh Tú    2000-12-27  18TCLC_DT2\n",
      "37   38  102180191             Lê Anh Tuấn    2000-06-13  18TCLC_DT2\n",
      "38   39  102180192            Phan Thế Tuệ    2000-09-23  18TCLC_DT2\n",
      "39   40  102180193            Mai Thế Viễn    2000-06-01  18TCLC_DT2\n",
      "40   41  102180194            Hồ Nguyên Vũ    2000-10-19  18TCLC_DT2\n",
      "41   42  102180195           Dương Thảo Vy    2000-02-29  18TCLC_DT2\n"
     ]
    }
   ],
   "source": [
    "import pandas as pd\n",
    "df = pd.read_excel('Book1.xlsx')\n",
    "#df = pd.read_csv('Check.csv', encoding='unicode_escape')\n",
    "print(df)\n"
   ]
  },
  {
   "cell_type": "code",
   "execution_count": 9,
   "id": "expanded-ukraine",
   "metadata": {},
   "outputs": [
    {
     "name": "stdout",
     "output_type": "stream",
     "text": [
      "5\n",
      "Lưu Quốc An\n",
      "Tôn Thất Quỳnh Anh\n",
      "Nguyễn Thị Minh Châu\n",
      "Trần Văn Thanh Công\n",
      "Huỳnh Bá Cường\n",
      "Trần Thế Dâng\n",
      "Nguyễn Tiến Đạt\n",
      "Phan Thị Diễm\n",
      "Phan Khương Duy\n",
      "Đỗ Trung Hiếu\n",
      "Nguyễn Nguyên Hoàng\n",
      "Đặng Quang Huy\n",
      "Nguyễn Hồng Huy\n",
      "Nguyễn Văn Quang Huy\n",
      "Trần Văn Huy\n",
      "Đỗ Oanh Khải\n",
      "Đỗ Văn Anh Khoa\n",
      "Phạm Mai Văn Lai\n",
      "Châu Trường Long\n",
      "Lương Thế Long\n",
      "Trần Chí Minh\n",
      "Đặng Bảo Ngân\n",
      "Nguyễn Xuân Nghĩa\n",
      "Bùi An Nguyên\n",
      "Đỗ Lý Nhân\n",
      "Phan Minh Phú\n",
      "Nguyễn Xuân Phương\n",
      "Nguyễn Phước Quốc\n",
      "Huỳnh Tấn Sinh\n",
      "Nguyễn Đặng Trường Sơn\n",
      "Nguyễn Đức Tài\n",
      "Lê Đức Thiết\n",
      "Lê Quang Thông\n",
      "Huỳnh Trần Khánh Toàn\n",
      "Võ Minh Trí\n",
      "Lê Tiến Trung\n",
      "Phan Anh Tú\n",
      "Lê Anh Tuấn\n",
      "Phan Thế Tuệ\n",
      "Mai Thế Viễn\n",
      "Hồ Nguyên Vũ\n",
      "Dương Thảo Vy\n"
     ]
    }
   ],
   "source": [
    "print(df.shape[1])\n",
    "rows = df.shape[0]\n",
    "for i in range(0,rows):\n",
    "    print(df.loc[i][2])"
   ]
  },
  {
   "cell_type": "code",
   "execution_count": 12,
   "id": "skilled-combining",
   "metadata": {},
   "outputs": [
    {
     "name": "stdout",
     "output_type": "stream",
     "text": [
      "    STT                    NAME DATE OF BIRTH       CLASS\n",
      "0     1             Lưu Quốc An    2000-02-03  18TCLC_DT2\n",
      "1     2      Tôn Thất Quỳnh Anh    2000-10-12  18TCLC_DT2\n",
      "2     3    Nguyễn Thị Minh Châu    2000-10-17  18TCLC_DT2\n",
      "3     4     Trần Văn Thanh Công    2000-08-17  18TCLC_DT2\n",
      "4     5          Huỳnh Bá Cường    2000-10-22  18TCLC_DT2\n",
      "5     6           Trần Thế Dâng    2000-11-16  18TCLC_DT2\n",
      "6     7         Nguyễn Tiến Đạt    2000-12-06  18TCLC_DT2\n",
      "7     8           Phan Thị Diễm    2000-09-18  18TCLC_DT2\n",
      "8     9         Phan Khương Duy    2000-09-29  18TCLC_DT2\n",
      "9    10           Đỗ Trung Hiếu    2000-05-02  18TCLC_DT2\n",
      "10   11     Nguyễn Nguyên Hoàng    1999-03-06  18TCLC_DT2\n",
      "11   12          Đặng Quang Huy    2000-09-30  18TCLC_DT2\n",
      "12   13         Nguyễn Hồng Huy    2000-04-10  18TCLC_DT2\n",
      "13   14    Nguyễn Văn Quang Huy    2000-11-27  18TCLC_DT2\n",
      "14   15            Trần Văn Huy    2000-10-26  18TCLC_DT2\n",
      "15   16            Đỗ Oanh Khải    2000-10-08  18TCLC_DT2\n",
      "16   17         Đỗ Văn Anh Khoa    2000-04-01  18TCLC_DT2\n",
      "17   18        Phạm Mai Văn Lai    2000-08-21  18TCLC_DT2\n",
      "18   19        Châu Trường Long    2000-08-02  18TCLC_DT2\n",
      "19   20          Lương Thế Long    2000-08-20  18TCLC_DT2\n",
      "20   21           Trần Chí Minh    2000-05-26  18TCLC_DT2\n",
      "21   22           Đặng Bảo Ngân    2000-04-09  18TCLC_DT2\n",
      "22   23       Nguyễn Xuân Nghĩa    2000-06-01  18TCLC_DT2\n",
      "23   24           Bùi An Nguyên    2000-11-16  18TCLC_DT2\n",
      "24   25              Đỗ Lý Nhân    2000-05-01  18TCLC_DT2\n",
      "25   26           Phan Minh Phú    2000-10-30  18TCLC_DT2\n",
      "26   27      Nguyễn Xuân Phương    2000-06-01  18TCLC_DT2\n",
      "27   28       Nguyễn Phước Quốc    2000-02-13  18TCLC_DT2\n",
      "28   29          Huỳnh Tấn Sinh    2000-02-19  18TCLC_DT2\n",
      "29   30  Nguyễn Đặng Trường Sơn    2000-01-10  18TCLC_DT2\n",
      "30   31          Nguyễn Đức Tài    2000-09-06  18TCLC_DT2\n",
      "31   32            Lê Đức Thiết    2000-12-05  18TCLC_DT2\n",
      "32   33          Lê Quang Thông    2000-10-20  18TCLC_DT2\n",
      "33   34   Huỳnh Trần Khánh Toàn    2000-01-19  18TCLC_DT2\n",
      "34   35             Võ Minh Trí    1997-01-03  18TCLC_DT2\n",
      "35   36           Lê Tiến Trung    2000-03-22  18TCLC_DT2\n",
      "36   37             Phan Anh Tú    2000-12-27  18TCLC_DT2\n",
      "37   38             Lê Anh Tuấn    2000-06-13  18TCLC_DT2\n",
      "38   39            Phan Thế Tuệ    2000-09-23  18TCLC_DT2\n",
      "39   40            Mai Thế Viễn    2000-06-01  18TCLC_DT2\n",
      "40   41            Hồ Nguyên Vũ    2000-10-19  18TCLC_DT2\n",
      "41   42           Dương Thảo Vy    2000-02-29  18TCLC_DT2\n",
      "<class 'pandas.core.frame.DataFrame'>\n",
      "<class 'pandas.core.frame.DataFrame'>\n"
     ]
    }
   ],
   "source": [
    "dict_student = dict()\n",
    "stt=[]\n",
    "name=[]\n",
    "date=[]\n",
    "class_study=[]\n",
    "# print(df['STT']) // in ra gia tri cua cot va kieu du lieu\n",
    "# print(df.columns[0]) // in ra ten cac cot\n",
    "# print(df['STT'].values) // in ra gia tri cua cot\n",
    "\n",
    "data = pd.DataFrame({'STT':df['STT'].values,'NAME':pd.Series(df['Name']),'DATE OF BIRTH':df['Date of Birth'],'CLASS':df['Class']})\n",
    "print(data)\n",
    "print(type(df))\n",
    "print(type(data))"
   ]
  },
  {
   "cell_type": "code",
   "execution_count": 13,
   "id": "noted-throw",
   "metadata": {},
   "outputs": [
    {
     "name": "stdout",
     "output_type": "stream",
     "text": [
      "0    10\n",
      "1    20\n",
      "2    30\n",
      "dtype: int64\n",
      "   area  pop\n",
      "0    10   20\n",
      "1    20   30\n",
      "2    30   40\n"
     ]
    }
   ],
   "source": [
    "area = pd.Series([10,20,30])\n",
    "pop = pd.Series([20,30,40])\n",
    "print(area)\n",
    "data = pd.DataFrame({'area':area, 'pop':pop})\n",
    "print(data)"
   ]
  },
  {
   "cell_type": "code",
   "execution_count": null,
   "id": "surprising-christopher",
   "metadata": {},
   "outputs": [],
   "source": []
  }
 ],
 "metadata": {
  "kernelspec": {
   "display_name": "Python 3",
   "language": "python",
   "name": "python3"
  },
  "language_info": {
   "codemirror_mode": {
    "name": "ipython",
    "version": 3
   },
   "file_extension": ".py",
   "mimetype": "text/x-python",
   "name": "python",
   "nbconvert_exporter": "python",
   "pygments_lexer": "ipython3",
   "version": "3.9.1"
  }
 },
 "nbformat": 4,
 "nbformat_minor": 5
}
