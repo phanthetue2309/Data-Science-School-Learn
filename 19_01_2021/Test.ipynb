{
 "cells": [
  {
   "cell_type": "code",
   "execution_count": 1,
   "metadata": {},
   "outputs": [],
   "source": [
    "import numpy as np"
   ]
  },
  {
   "cell_type": "code",
   "execution_count": 3,
   "metadata": {},
   "outputs": [
    {
     "name": "stdin",
     "output_type": "stream",
     "text": [
      "Nhap ky tu :  a\n",
      "Nhap ky tu :  b\n",
      "Nhap ky tu :  c\n",
      "Nhap ky tu :  d\n",
      "Nhap ky tu :  e\n",
      "Nhap ky tu :  f\n",
      "Nhap ky tu :  q\n"
     ]
    }
   ],
   "source": [
    "while True :\n",
    "    ch = input('Nhap ky tu : ')\n",
    "    if ch == \"q\" or ch == \"Q\":\n",
    "        break"
   ]
  },
  {
   "cell_type": "code",
   "execution_count": 5,
   "metadata": {},
   "outputs": [
    {
     "name": "stdout",
     "output_type": "stream",
     "text": [
      "Apple\n",
      "p\n"
     ]
    }
   ],
   "source": [
    "# xâu ký tự\n",
    "fruit = \"Apple\"\n",
    "print(fruit)\n",
    "print(fruit[2])"
   ]
  },
  {
   "cell_type": "code",
   "execution_count": 9,
   "metadata": {},
   "outputs": [
    {
     "name": "stdout",
     "output_type": "stream",
     "text": [
      "ky tu thu 0 la K\n",
      "ky tu thu 1 la 1\n",
      "ky tu thu 2 la 8\n",
      "ky tu thu 3 la T\n",
      "ky tu thu 4 la C\n",
      "ky tu thu 5 la L\n",
      "ky tu thu 6 la C\n"
     ]
    }
   ],
   "source": [
    "s = 'K18TCLC'\n",
    "i = 0 \n",
    "while i < len(s):\n",
    "    print('ky tu thu %d la %s' %(i,s[i]) )\n",
    "    i = i + 1"
   ]
  },
  {
   "cell_type": "code",
   "execution_count": 11,
   "metadata": {},
   "outputs": [
    {
     "name": "stdout",
     "output_type": "stream",
     "text": [
      "K\n",
      "1\n",
      "8\n",
      "T\n",
      "C\n",
      "L\n",
      "C\n"
     ]
    }
   ],
   "source": [
    "for c in s : \n",
    "    print(c)"
   ]
  },
  {
   "cell_type": "code",
   "execution_count": 12,
   "metadata": {},
   "outputs": [
    {
     "name": "stdout",
     "output_type": "stream",
     "text": [
      "An Mit Cute\n"
     ]
    }
   ],
   "source": [
    "print('An {}'.format('Mit Cute'))"
   ]
  },
  {
   "cell_type": "code",
   "execution_count": 2,
   "metadata": {},
   "outputs": [],
   "source": [
    "dic = dict()\n",
    "dic['a'] = 1\n",
    "dic['b'] = 2"
   ]
  },
  {
   "cell_type": "code",
   "execution_count": 5,
   "metadata": {},
   "outputs": [
    {
     "name": "stdout",
     "output_type": "stream",
     "text": [
      "a\n",
      "1\n",
      "b\n",
      "2\n"
     ]
    }
   ],
   "source": [
    "#dictionary \n",
    "for x in dic : \n",
    "    print(x) # key \n",
    "    print(dic[x]) # value "
   ]
  },
  {
   "cell_type": "code",
   "execution_count": 6,
   "metadata": {},
   "outputs": [
    {
     "name": "stdout",
     "output_type": "stream",
     "text": [
      "b\n"
     ]
    }
   ],
   "source": [
    "for x in dic : \n",
    "    if dic[x] == 2 : \n",
    "        print(x)\n",
    "    "
   ]
  },
  {
   "cell_type": "code",
   "execution_count": 9,
   "metadata": {},
   "outputs": [
    {
     "ename": "TypeError",
     "evalue": "'tuple' object does not support item assignment",
     "output_type": "error",
     "traceback": [
      "\u001b[1;31m---------------------------------------------------------------------------\u001b[0m",
      "\u001b[1;31mTypeError\u001b[0m                                 Traceback (most recent call last)",
      "\u001b[1;32m<ipython-input-9-233a16b26862>\u001b[0m in \u001b[0;36m<module>\u001b[1;34m\u001b[0m\n\u001b[0;32m      1\u001b[0m \u001b[0mtop\u001b[0m \u001b[1;33m=\u001b[0m \u001b[1;33m(\u001b[0m\u001b[1;36m1\u001b[0m\u001b[1;33m,\u001b[0m \u001b[1;36m9.8\u001b[0m\u001b[1;33m,\u001b[0m \u001b[1;34m'abc'\u001b[0m\u001b[1;33m)\u001b[0m\u001b[1;33m\u001b[0m\u001b[1;33m\u001b[0m\u001b[0m\n\u001b[0;32m      2\u001b[0m \u001b[0mtop\u001b[0m\u001b[1;33m[\u001b[0m\u001b[1;36m0\u001b[0m\u001b[1;33m]\u001b[0m\u001b[1;33m\u001b[0m\u001b[1;33m\u001b[0m\u001b[0m\n\u001b[1;32m----> 3\u001b[1;33m \u001b[0mtop\u001b[0m\u001b[1;33m[\u001b[0m\u001b[1;36m0\u001b[0m\u001b[1;33m]\u001b[0m \u001b[1;33m=\u001b[0m \u001b[1;36m2\u001b[0m\u001b[1;33m\u001b[0m\u001b[1;33m\u001b[0m\u001b[0m\n\u001b[0m",
      "\u001b[1;31mTypeError\u001b[0m: 'tuple' object does not support item assignment"
     ]
    }
   ],
   "source": [
    "top = (1, 9.8, 'abc')\n",
    "top[0]\n",
    "top[0] = 2"
   ]
  },
  {
   "cell_type": "code",
   "execution_count": 1,
   "metadata": {
    "collapsed": true,
    "jupyter": {
     "outputs_hidden": true
    }
   },
   "outputs": [
    {
     "name": "stdout",
     "output_type": "stream",
     "text": [
      "    TT     Số thẻ                  Họ Tên  Ngày sinh      Lớp SH\n",
      "0    1  102180153             Lưu Quốc An 2000-02-03  18TCLC_DT2\n",
      "1    2  102180154      Tôn Thất Quỳnh Anh 2000-10-12  18TCLC_DT2\n",
      "2    3  102180155    Nguyễn Thị Minh Châu 2000-10-17  18TCLC_DT2\n",
      "3    4  102180156     Trần Văn Thanh Công 2000-08-17  18TCLC_DT2\n",
      "4    5  102180157          Huỳnh Bá Cường 2000-10-22  18TCLC_DT2\n",
      "5    6  102180158           Trần Thế Dâng 2000-11-16  18TCLC_DT2\n",
      "6    7  102180159         Nguyễn Tiến Đạt 2000-12-06  18TCLC_DT2\n",
      "7    8  102180160           Phan Thị Diễm 2000-09-18  18TCLC_DT2\n",
      "8    9  102180161         Phan Khương Duy 2000-09-29  18TCLC_DT2\n",
      "9   10  102180162           Đỗ Trung Hiếu 2000-05-02  18TCLC_DT2\n",
      "10  11  102180163     Nguyễn Nguyên Hoàng 1999-03-06  18TCLC_DT2\n",
      "11  12  102180164          Đặng Quang Huy 2000-09-30  18TCLC_DT2\n",
      "12  13  102180165         Nguyễn Hồng Huy 2000-04-10  18TCLC_DT2\n",
      "13  14  102180166    Nguyễn Văn Quang Huy 2000-11-27  18TCLC_DT2\n",
      "14  15  102180167            Trần Văn Huy 2000-10-26  18TCLC_DT2\n",
      "15  16  102180168            Đỗ Oanh Khải 2000-10-08  18TCLC_DT2\n",
      "16  17  102180169         Đỗ Văn Anh Khoa 2000-04-01  18TCLC_DT2\n",
      "17  18  102180170        Phạm Mai Văn Lai 2000-08-21  18TCLC_DT2\n",
      "18  19  102180171        Châu Trường Long 2000-08-02  18TCLC_DT2\n",
      "19  20  102180172          Lương Thế Long 2000-08-20  18TCLC_DT2\n",
      "20  21  102180173           Trần Chí Minh 2000-05-26  18TCLC_DT2\n",
      "21  22  102180174           Đặng Bảo Ngân 2000-04-09  18TCLC_DT2\n",
      "22  23  102180175       Nguyễn Xuân Nghĩa 2000-06-01  18TCLC_DT2\n",
      "23  24  102180176           Bùi An Nguyên 2000-11-16  18TCLC_DT2\n",
      "24  25  102180177              Đỗ Lý Nhân 2000-05-01  18TCLC_DT2\n",
      "25  26  102180178           Phan Minh Phú 2000-10-30  18TCLC_DT2\n",
      "26  27  102180179      Nguyễn Xuân Phương 2000-06-01  18TCLC_DT2\n",
      "27  28  102180180       Nguyễn Phước Quốc 2000-02-13  18TCLC_DT2\n",
      "28  29  102180181          Huỳnh Tấn Sinh 2000-02-19  18TCLC_DT2\n",
      "29  30  102180182  Nguyễn Đặng Trường Sơn 2000-01-10  18TCLC_DT2\n",
      "30  31  102180183          Nguyễn Đức Tài 2000-09-06  18TCLC_DT2\n",
      "31  32  102180185            Lê Đức Thiết 2000-12-05  18TCLC_DT2\n",
      "32  33  102180186          Lê Quang Thông 2000-10-20  18TCLC_DT2\n",
      "33  34  102180187   Huỳnh Trần Khánh Toàn 2000-01-19  18TCLC_DT2\n",
      "34  35  102180188             Võ Minh Trí 1997-01-03  18TCLC_DT2\n",
      "35  36  102180189           Lê Tiến Trung 2000-03-22  18TCLC_DT2\n",
      "36  37  102180190             Phan Anh Tú 2000-12-27  18TCLC_DT2\n",
      "37  38  102180191             Lê Anh Tuấn 2000-06-13  18TCLC_DT2\n",
      "38  39  102180192            Phan Thế Tuệ 2000-09-23  18TCLC_DT2\n",
      "39  40  102180193            Mai Thế Viễn 2000-06-01  18TCLC_DT2\n",
      "40  41  102180194            Hồ Nguyên Vũ 2000-10-19  18TCLC_DT2\n",
      "41  42  102180195           Dương Thảo Vy 2000-02-29  18TCLC_DT2\n"
     ]
    }
   ],
   "source": [
    "# tuple tập giá trị cần thay đổi cho nhau ( tương tự như temp )\n",
    "import pandas as pd\n",
    "\n",
    "df = pd.read_excel (r'C:\\Users\\PhanTheTue\\OneDrive\\Desktop\\Schedule.xlsx')\n",
    "print (df)"
   ]
  },
  {
   "cell_type": "code",
   "execution_count": 28,
   "metadata": {
    "collapsed": true,
    "jupyter": {
     "outputs_hidden": true
    }
   },
   "outputs": [
    {
     "name": "stdout",
     "output_type": "stream",
     "text": [
      "    TT     Số thẻ                  Họ Tên  Ngày sinh      Lớp SH\n",
      "0    1  102180153             Lưu Quốc An 2000-02-03  18TCLC_DT2\n",
      "1    2  102180154      Tôn Thất Quỳnh Anh 2000-10-12  18TCLC_DT2\n",
      "2    3  102180155    Nguyễn Thị Minh Châu 2000-10-17  18TCLC_DT2\n",
      "3    4  102180156     Trần Văn Thanh Công 2000-08-17  18TCLC_DT2\n",
      "4    5  102180157          Huỳnh Bá Cường 2000-10-22  18TCLC_DT2\n",
      "5    6  102180158           Trần Thế Dâng 2000-11-16  18TCLC_DT2\n",
      "6    7  102180159         Nguyễn Tiến Đạt 2000-12-06  18TCLC_DT2\n",
      "7    8  102180160           Phan Thị Diễm 2000-09-18  18TCLC_DT2\n",
      "8    9  102180161         Phan Khương Duy 2000-09-29  18TCLC_DT2\n",
      "9   10  102180162           Đỗ Trung Hiếu 2000-05-02  18TCLC_DT2\n",
      "10  11  102180163     Nguyễn Nguyên Hoàng 1999-03-06  18TCLC_DT2\n",
      "11  12  102180164          Đặng Quang Huy 2000-09-30  18TCLC_DT2\n",
      "12  13  102180165         Nguyễn Hồng Huy 2000-04-10  18TCLC_DT2\n",
      "13  14  102180166    Nguyễn Văn Quang Huy 2000-11-27  18TCLC_DT2\n",
      "14  15  102180167            Trần Văn Huy 2000-10-26  18TCLC_DT2\n",
      "15  16  102180168            Đỗ Oanh Khải 2000-10-08  18TCLC_DT2\n",
      "16  17  102180169         Đỗ Văn Anh Khoa 2000-04-01  18TCLC_DT2\n",
      "17  18  102180170        Phạm Mai Văn Lai 2000-08-21  18TCLC_DT2\n",
      "18  19  102180171        Châu Trường Long 2000-08-02  18TCLC_DT2\n",
      "19  20  102180172          Lương Thế Long 2000-08-20  18TCLC_DT2\n",
      "20  21  102180173           Trần Chí Minh 2000-05-26  18TCLC_DT2\n",
      "21  22  102180174           Đặng Bảo Ngân 2000-04-09  18TCLC_DT2\n",
      "22  23  102180175       Nguyễn Xuân Nghĩa 2000-06-01  18TCLC_DT2\n",
      "23  24  102180176           Bùi An Nguyên 2000-11-16  18TCLC_DT2\n",
      "24  25  102180177              Đỗ Lý Nhân 2000-05-01  18TCLC_DT2\n",
      "25  26  102180178           Phan Minh Phú 2000-10-30  18TCLC_DT2\n",
      "26  27  102180179      Nguyễn Xuân Phương 2000-06-01  18TCLC_DT2\n",
      "27  28  102180180       Nguyễn Phước Quốc 2000-02-13  18TCLC_DT2\n",
      "28  29  102180181          Huỳnh Tấn Sinh 2000-02-19  18TCLC_DT2\n",
      "29  30  102180182  Nguyễn Đặng Trường Sơn 2000-01-10  18TCLC_DT2\n",
      "30  31  102180183          Nguyễn Đức Tài 2000-09-06  18TCLC_DT2\n",
      "31  32  102180185            Lê Đức Thiết 2000-12-05  18TCLC_DT2\n",
      "32  33  102180186          Lê Quang Thông 2000-10-20  18TCLC_DT2\n",
      "33  34  102180187   Huỳnh Trần Khánh Toàn 2000-01-19  18TCLC_DT2\n",
      "34  35  102180188             Võ Minh Trí 1997-01-03  18TCLC_DT2\n",
      "35  36  102180189           Lê Tiến Trung 2000-03-22  18TCLC_DT2\n",
      "36  37  102180190             Phan Anh Tú 2000-12-27  18TCLC_DT2\n",
      "37  38  102180191             Lê Anh Tuấn 2000-06-13  18TCLC_DT2\n",
      "38  39  102180192            Phan Thế Tuệ 2000-09-23  18TCLC_DT2\n",
      "39  40  102180193            Mai Thế Viễn 2000-06-01  18TCLC_DT2\n",
      "40  41  102180194            Hồ Nguyên Vũ 2000-10-19  18TCLC_DT2\n",
      "41  42  102180195           Dương Thảo Vy 2000-02-29  18TCLC_DT2\n"
     ]
    }
   ],
   "source": [
    "import pandas as pd\n",
    "\n",
    "df = pd.read_excel (r'Check.csv')\n",
    "print (df)"
   ]
  },
  {
   "cell_type": "code",
   "execution_count": null,
   "metadata": {},
   "outputs": [],
   "source": [
    "f = open(r\"C:\\Users\\PhanTheTue\\OneDrive\\Desktop\\Check.csv\", encoding = \"utf8\",errors='ignore')\n"
   ]
  },
  {
   "cell_type": "code",
   "execution_count": 21,
   "metadata": {},
   "outputs": [],
   "source": []
  },
  {
   "cell_type": "code",
   "execution_count": 3,
   "metadata": {},
   "outputs": [
    {
     "name": "stdout",
     "output_type": "stream",
     "text": [
      "STT\n",
      "102180153\n",
      "102180154\n",
      "102180155\n",
      "102180156\n",
      "102180157\n",
      "102180158\n",
      "102180159\n",
      "102180160\n",
      "102180161\n",
      "102180162\n",
      "102180163\n",
      "102180164\n",
      "102180165\n",
      "102180166\n",
      "102180167\n",
      "102180168\n",
      "102180169\n",
      "102180170\n",
      "102180171\n",
      "102180172\n",
      "102180173\n",
      "102180174\n",
      "102180175\n",
      "102180176\n",
      "102180177\n",
      "102180178\n",
      "102180179\n",
      "102180180\n",
      "102180181\n",
      "102180182\n",
      "102180183\n",
      "102180185\n",
      "102180186\n",
      "102180187\n",
      "102180188\n",
      "102180189\n",
      "102180190\n",
      "102180191\n",
      "102180192\n",
      "102180193\n",
      "102180194\n",
      "102180195\n"
     ]
    },
    {
     "name": "stdin",
     "output_type": "stream",
     "text": [
      " 102180191\n"
     ]
    },
    {
     "name": "stdout",
     "output_type": "stream",
     "text": [
      "{'id': '102180191', 'name': 'Le Anh Tuan'}\n"
     ]
    }
   ],
   "source": [
    "class Student : \n",
    "    def __init__(self, id, name,date_of_birth, class_study):\n",
    "        self.id = id\n",
    "        self.name = name\n",
    "        self.date_of_birth = date_of_birth\n",
    "        self.class_study = class_study\n",
    "    def __repr__(self):\n",
    "        return str(dict({\n",
    "            \"id\": self.id,\n",
    "            \"name\": self.name,\n",
    "        }))\n",
    "    \n",
    "students = []\n",
    "dic_students = dict()\n",
    "f = open(\"Check.csv\", 'r',encoding=\"unicode_escape\")\n",
    "# lưu ý là encoding utf 8 sẽ gây ra lỗi còn unicode_escapse sẽ ko có lỗi \n",
    "listoflines = f.readlines()\n",
    "for line in listoflines:\n",
    "    #print(line) \n",
    "    x = line.split(\",\")\n",
    "    students.append(Student(id = x[1],name = x[2], date_of_birth = x[3] , class_study = x[4])) # add to list \n",
    "    dic_students[x[1]] =  Student(id = x[1],name = x[2], date_of_birth = x[3] , class_study = x[4]) # add to dictionary \n",
    "    \n",
    "# print(students[2]) # test print students in dictionary\n",
    "# success \n",
    "\n",
    "for x in dic_students: \n",
    "    print(x)\n",
    "    \n",
    "def Search_By_Id(x):\n",
    "    for i in dic_students : \n",
    "        if x == i : \n",
    "            print(dic_students[x])\n",
    "            return \n",
    "    print(\"Not Found Same ID\")\n",
    "    return\n",
    "\n",
    "id_to_find = input()\n",
    "Search_By_Id(id_to_find)\n"
   ]
  },
  {
   "cell_type": "code",
   "execution_count": null,
   "metadata": {},
   "outputs": [],
   "source": [
    "s1 = '  abc  '\n",
    "print(f'String =\\'{s1}\\'')\n",
    "print(f'After Removing Leading Whitespaces String =\\'{s1.lstrip()}\\'')\n",
    "print(f'After Removing Trailing Whitespaces String =\\'{s1.rstrip()}\\'')\n",
    "print(f'After Trimming Whitespaces String =\\'{s1.strip()}\\'')"
   ]
  },
  {
   "cell_type": "code",
   "execution_count": null,
   "metadata": {},
   "outputs": [],
   "source": [
    "# viết hàm tìm kiếm dữ liệu từng người \n",
    "# tìm theo key ra value \n",
    "# import dữ liệu vào dictionary trong python"
   ]
  },
  {
   "cell_type": "code",
   "execution_count": null,
   "metadata": {},
   "outputs": [],
   "source": []
  }
 ],
 "metadata": {
  "kernelspec": {
   "display_name": "Python 3",
   "language": "python",
   "name": "python3"
  },
  "language_info": {
   "codemirror_mode": {
    "name": "ipython",
    "version": 3
   },
   "file_extension": ".py",
   "mimetype": "text/x-python",
   "name": "python",
   "nbconvert_exporter": "python",
   "pygments_lexer": "ipython3",
   "version": "3.9.1"
  }
 },
 "nbformat": 4,
 "nbformat_minor": 4
}
